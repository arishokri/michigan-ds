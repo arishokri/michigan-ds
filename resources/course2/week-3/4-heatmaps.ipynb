{
 "cells": [
  {
   "cell_type": "markdown",
   "metadata": {},
   "source": [
    "# Heatmaps"
   ]
  },
  {
   "cell_type": "markdown",
   "metadata": {},
   "source": [
    "Heatmaps are a way to visualize three-dimensions of data and to take advantage of spatial proximity of those dimensions.\n",
    "\n",
    "In making revisions to this course I was really tempted to get rid of the section on heatmaps, as I've seen enough bad heatmaps to last me a lifetime. The problem is heatmaps are really quite powerful when you have the right data. Weather data is a great example. You have two dimensions, latitude and longitude, and then we can overlay on top of this a third dimension, say, temperature or rainfall amounts and use color to indicate its intensity.\n",
    "\n",
    "In fact, anything with a two dimensional spatial aspect can make for a natural heat map. As an example, eye fixation points through gaze detection is used regularly by researchers and marketing experts to understand what people are looking at on websites. But where heatmaps break down is when there's no continuous - or at least ordinal - relationship between dimensions. Using a heatmap for categorical data, for instance, is just plain wrong. It misleads the viewer into looking for patterns and ordering through spatial proximity. And any such patterns would be purely spurious.\n",
    "\n",
    "But I decided to keep this in the course, because it can be useful, and I've put together a new example using ordered data, so let's talk about the techniques. In matplotlib, a heatmap is simply a two-dimensional histogram where the x and the y values indicate potential points and the color plotted is the frequency of the observation.\n"
   ]
  },
  {
   "cell_type": "code",
   "execution_count": 1,
   "metadata": {},
   "outputs": [],
   "source": [
    "# Let's bring in matplotlib and numpy, as well as pandas and some date time functionality\n",
    "import matplotlib.pyplot as plt\n",
    "import pandas as pd"
   ]
  },
  {
   "cell_type": "code",
   "execution_count": 2,
   "metadata": {},
   "outputs": [
    {
     "data": {
      "text/html": [
       "<div>\n",
       "<style scoped>\n",
       "    .dataframe tbody tr th:only-of-type {\n",
       "        vertical-align: middle;\n",
       "    }\n",
       "\n",
       "    .dataframe tbody tr th {\n",
       "        vertical-align: top;\n",
       "    }\n",
       "\n",
       "    .dataframe thead th {\n",
       "        text-align: right;\n",
       "    }\n",
       "</style>\n",
       "<table border=\"1\" class=\"dataframe\">\n",
       "  <thead>\n",
       "    <tr style=\"text-align: right;\">\n",
       "      <th></th>\n",
       "      <th>Plaza ID</th>\n",
       "      <th>Date</th>\n",
       "      <th>Hour</th>\n",
       "      <th>Direction</th>\n",
       "      <th># Vehicles - E-ZPass</th>\n",
       "      <th># Vehicles - VToll</th>\n",
       "    </tr>\n",
       "  </thead>\n",
       "  <tbody>\n",
       "    <tr>\n",
       "      <th>0</th>\n",
       "      <td>21</td>\n",
       "      <td>2022-08-06</td>\n",
       "      <td>0</td>\n",
       "      <td>I</td>\n",
       "      <td>2820</td>\n",
       "      <td>649</td>\n",
       "    </tr>\n",
       "    <tr>\n",
       "      <th>1</th>\n",
       "      <td>21</td>\n",
       "      <td>2022-08-06</td>\n",
       "      <td>1</td>\n",
       "      <td>I</td>\n",
       "      <td>2124</td>\n",
       "      <td>474</td>\n",
       "    </tr>\n",
       "    <tr>\n",
       "      <th>2</th>\n",
       "      <td>21</td>\n",
       "      <td>2022-08-06</td>\n",
       "      <td>2</td>\n",
       "      <td>I</td>\n",
       "      <td>1617</td>\n",
       "      <td>391</td>\n",
       "    </tr>\n",
       "    <tr>\n",
       "      <th>3</th>\n",
       "      <td>21</td>\n",
       "      <td>2022-08-06</td>\n",
       "      <td>3</td>\n",
       "      <td>I</td>\n",
       "      <td>1228</td>\n",
       "      <td>358</td>\n",
       "    </tr>\n",
       "    <tr>\n",
       "      <th>4</th>\n",
       "      <td>21</td>\n",
       "      <td>2022-08-06</td>\n",
       "      <td>4</td>\n",
       "      <td>I</td>\n",
       "      <td>1604</td>\n",
       "      <td>368</td>\n",
       "    </tr>\n",
       "  </tbody>\n",
       "</table>\n",
       "</div>"
      ],
      "text/plain": [
       "   Plaza ID       Date  Hour Direction  # Vehicles - E-ZPass  \\\n",
       "0        21 2022-08-06     0         I                  2820   \n",
       "1        21 2022-08-06     1         I                  2124   \n",
       "2        21 2022-08-06     2         I                  1617   \n",
       "3        21 2022-08-06     3         I                  1228   \n",
       "4        21 2022-08-06     4         I                  1604   \n",
       "\n",
       "   # Vehicles - VToll  \n",
       "0                 649  \n",
       "1                 474  \n",
       "2                 391  \n",
       "3                 358  \n",
       "4                 368  "
      ]
     },
     "execution_count": 2,
     "metadata": {},
     "output_type": "execute_result"
    }
   ],
   "source": [
    "# In this example I want to show you some traffic data from New York City, which is\n",
    "# all available from NYC open data portal.\n",
    "df=pd.read_csv(\"../assets/NYC hourly traffic.csv\")\n",
    "\n",
    "# I'm going to convert the date column into a date and time\n",
    "df[\"Date\"]=df[\"Date\"].apply(pd.to_datetime)\n",
    "\n",
    "df.head()"
   ]
  },
  {
   "cell_type": "code",
   "execution_count": 3,
   "metadata": {},
   "outputs": [
    {
     "data": {
      "text/html": [
       "<div>\n",
       "<style scoped>\n",
       "    .dataframe tbody tr th:only-of-type {\n",
       "        vertical-align: middle;\n",
       "    }\n",
       "\n",
       "    .dataframe tbody tr th {\n",
       "        vertical-align: top;\n",
       "    }\n",
       "\n",
       "    .dataframe thead th {\n",
       "        text-align: right;\n",
       "    }\n",
       "</style>\n",
       "<table border=\"1\" class=\"dataframe\">\n",
       "  <thead>\n",
       "    <tr style=\"text-align: right;\">\n",
       "      <th></th>\n",
       "      <th>Plaza ID</th>\n",
       "      <th>Date</th>\n",
       "      <th>Hour</th>\n",
       "      <th>Direction</th>\n",
       "      <th># Vehicles - E-ZPass</th>\n",
       "      <th># Vehicles - VToll</th>\n",
       "    </tr>\n",
       "  </thead>\n",
       "  <tbody>\n",
       "    <tr>\n",
       "      <th>735652</th>\n",
       "      <td>5</td>\n",
       "      <td>2017-04-29</td>\n",
       "      <td>0</td>\n",
       "      <td>I</td>\n",
       "      <td>216</td>\n",
       "      <td>25</td>\n",
       "    </tr>\n",
       "    <tr>\n",
       "      <th>735653</th>\n",
       "      <td>5</td>\n",
       "      <td>2017-04-29</td>\n",
       "      <td>0</td>\n",
       "      <td>O</td>\n",
       "      <td>100</td>\n",
       "      <td>23</td>\n",
       "    </tr>\n",
       "    <tr>\n",
       "      <th>735654</th>\n",
       "      <td>5</td>\n",
       "      <td>2017-04-29</td>\n",
       "      <td>1</td>\n",
       "      <td>I</td>\n",
       "      <td>111</td>\n",
       "      <td>21</td>\n",
       "    </tr>\n",
       "    <tr>\n",
       "      <th>735655</th>\n",
       "      <td>5</td>\n",
       "      <td>2017-04-29</td>\n",
       "      <td>1</td>\n",
       "      <td>O</td>\n",
       "      <td>53</td>\n",
       "      <td>18</td>\n",
       "    </tr>\n",
       "    <tr>\n",
       "      <th>735656</th>\n",
       "      <td>5</td>\n",
       "      <td>2017-04-29</td>\n",
       "      <td>2</td>\n",
       "      <td>I</td>\n",
       "      <td>72</td>\n",
       "      <td>16</td>\n",
       "    </tr>\n",
       "    <tr>\n",
       "      <th>...</th>\n",
       "      <td>...</td>\n",
       "      <td>...</td>\n",
       "      <td>...</td>\n",
       "      <td>...</td>\n",
       "      <td>...</td>\n",
       "      <td>...</td>\n",
       "    </tr>\n",
       "    <tr>\n",
       "      <th>773399</th>\n",
       "      <td>5</td>\n",
       "      <td>2016-12-31</td>\n",
       "      <td>21</td>\n",
       "      <td>O</td>\n",
       "      <td>234</td>\n",
       "      <td>54</td>\n",
       "    </tr>\n",
       "    <tr>\n",
       "      <th>773400</th>\n",
       "      <td>5</td>\n",
       "      <td>2016-12-31</td>\n",
       "      <td>22</td>\n",
       "      <td>I</td>\n",
       "      <td>180</td>\n",
       "      <td>46</td>\n",
       "    </tr>\n",
       "    <tr>\n",
       "      <th>773401</th>\n",
       "      <td>5</td>\n",
       "      <td>2016-12-31</td>\n",
       "      <td>22</td>\n",
       "      <td>O</td>\n",
       "      <td>177</td>\n",
       "      <td>40</td>\n",
       "    </tr>\n",
       "    <tr>\n",
       "      <th>773402</th>\n",
       "      <td>5</td>\n",
       "      <td>2016-12-31</td>\n",
       "      <td>23</td>\n",
       "      <td>I</td>\n",
       "      <td>126</td>\n",
       "      <td>30</td>\n",
       "    </tr>\n",
       "    <tr>\n",
       "      <th>773403</th>\n",
       "      <td>5</td>\n",
       "      <td>2016-12-31</td>\n",
       "      <td>23</td>\n",
       "      <td>O</td>\n",
       "      <td>143</td>\n",
       "      <td>37</td>\n",
       "    </tr>\n",
       "  </tbody>\n",
       "</table>\n",
       "<p>5760 rows × 6 columns</p>\n",
       "</div>"
      ],
      "text/plain": [
       "        Plaza ID       Date  Hour Direction  # Vehicles - E-ZPass  \\\n",
       "735652         5 2017-04-29     0         I                   216   \n",
       "735653         5 2017-04-29     0         O                   100   \n",
       "735654         5 2017-04-29     1         I                   111   \n",
       "735655         5 2017-04-29     1         O                    53   \n",
       "735656         5 2017-04-29     2         I                    72   \n",
       "...          ...        ...   ...       ...                   ...   \n",
       "773399         5 2016-12-31    21         O                   234   \n",
       "773400         5 2016-12-31    22         I                   180   \n",
       "773401         5 2016-12-31    22         O                   177   \n",
       "773402         5 2016-12-31    23         I                   126   \n",
       "773403         5 2016-12-31    23         O                   143   \n",
       "\n",
       "        # Vehicles - VToll  \n",
       "735652                  25  \n",
       "735653                  23  \n",
       "735654                  21  \n",
       "735655                  18  \n",
       "735656                  16  \n",
       "...                    ...  \n",
       "773399                  54  \n",
       "773400                  46  \n",
       "773401                  40  \n",
       "773402                  30  \n",
       "773403                  37  \n",
       "\n",
       "[5760 rows x 6 columns]"
      ]
     },
     "execution_count": 3,
     "metadata": {},
     "output_type": "execute_result"
    }
   ],
   "source": [
    "# That might take a bit to load if you are following along on Coursera, it's a big \n",
    "# dataset. Let's pare it down in size and do some basic exploratory data analysis \n",
    "# with histograms. Let's say I'm interested in a single plaza (camera location) and \n",
    "# dates for the early part of 2017. I'm going to write a pandas query to do that\n",
    "sample=df.query(\"`Plaza ID`==5 & Date>'2016-12-30' & Date<'2017-05-01'\")\n",
    "sample"
   ]
  },
  {
   "cell_type": "markdown",
   "metadata": {},
   "source": [
    "This syntax might look a bit different to you from our first course. This is an alternative way to query a dataframe, and it uses a library called `numexpr` to take a query as a string and apply it to the dataframe. It's a bit like SQL in its syntax, if you are familiar with that, but it has a lot of caveats with it. I wanted to expose you to it so you were aware, but it's completely possible for you to use the regular boolean masking method I showed you in course 1. Now would be a great time to pause the video, open the notebook, and see if you could re-write this query using the knowledge you already have on boolean masking.\n",
    "\n",
    "We have the hour of day here, so let's take a look at a histogram of activity over a day."
   ]
  },
  {
   "cell_type": "code",
   "execution_count": 4,
   "metadata": {},
   "outputs": [
    {
     "data": {
      "image/png": "[encoded data removed]",
      "text/plain": [
       "<Figure size 640x480 with 1 Axes>"
      ]
     },
     "metadata": {},
     "output_type": "display_data"
    }
   ],
   "source": [
    "# since we have 24 hours in a day I'll set the bins there, and I want\n",
    "# to see our frequency -- the weights for each bin -- as the number of\n",
    "# vehicles which have the E-ZPass system. This system automatically bills\n",
    "# drivers for using the road, and has already been aggregated (summed)\n",
    "# for us from individual observations\n",
    "plt.hist(sample[\"Hour\"],bins=24,weights=sample[\"# Vehicles - E-ZPass\"]);"
   ]
  },
  {
   "cell_type": "markdown",
   "metadata": {},
   "source": [
    "Ok, what do you notice here? I see two spikes, mornings around 7:30 and afternoons starting at about 3 until 6. Sounds like rush hour!\n",
    "\n",
    "In this example our hours are ordered, so it makes sense to view the data in this way. But we also have days of the week which are ordered. Let's extract the day of the week and look at a histogram of that."
   ]
  },
  {
   "cell_type": "code",
   "execution_count": 5,
   "metadata": {},
   "outputs": [
    {
     "name": "stderr",
     "output_type": "stream",
     "text": [
      "/tmp/ipykernel_716942/2117668974.py:7: SettingWithCopyWarning: \n",
      "A value is trying to be set on a copy of a slice from a DataFrame.\n",
      "Try using .loc[row_indexer,col_indexer] = value instead\n",
      "\n",
      "See the caveats in the documentation: https://pandas.pydata.org/pandas-docs/stable/user_guide/indexing.html#returning-a-view-versus-a-copy\n",
      "  sample[\"Day of Week\"]=sample[\"Date\"].dt.dayofweek\n"
     ]
    },
    {
     "data": {
      "image/png": "[encoded data removed]",
      "text/plain": [
       "<Figure size 640x480 with 1 Axes>"
      ]
     },
     "metadata": {},
     "output_type": "display_data"
    }
   ],
   "source": [
    "# We can extract the day of the week from the Date column using the\n",
    "# pandas date time features. The Series object in pandas has an\n",
    "# attribute \"dt\" which stores numerous date time transformations for\n",
    "# us because it's such a common need. In this case we just take the\n",
    "# Date column (which is a Series object) and get the .dt.dayofweek\n",
    "# from it.\n",
    "sample[\"Day of Week\"]=sample[\"Date\"].dt.dayofweek\n",
    "\n",
    "# Once we have done that we can just look at a histogram\n",
    "plt.hist(sample[\"Day of Week\"],bins=7,weights=sample[\"# Vehicles - E-ZPass\"]);"
   ]
  },
  {
   "cell_type": "markdown",
   "metadata": {},
   "source": [
    "Ok, so we can see that traffic flow is pretty steady except for days 5 and 6 in the week, which happen to be the weekends. Now, we could isolate those days and look at the individual histograms for hourly traffic, but we can also look at a joint histogram -- or a heat map -- for both the hourly and daily variables. When we do this we set one variable to be the x axis, another to be the y axis, and then we render our frequency (our weights) as different colors showing the third dimension."
   ]
  },
  {
   "cell_type": "code",
   "execution_count": 6,
   "metadata": {},
   "outputs": [
    {
     "data": {
      "text/plain": [
       "<matplotlib.colorbar.Colorbar at 0x7fadd9ba0050>"
      ]
     },
     "execution_count": 6,
     "metadata": {},
     "output_type": "execute_result"
    },
    {
     "data": {
      "image/png": "[encoded data removed]",
      "text/plain": [
       "<Figure size 1200x800 with 2 Axes>"
      ]
     },
     "metadata": {},
     "output_type": "display_data"
    }
   ],
   "source": [
    "# While it sounds like a lot of work, it isn't really in matplotlib!\n",
    "# The API looks almost the same as a regular histogram, but in this\n",
    "# case we have to specify the bin size for each axis\n",
    "plt.figure(figsize=(12,8)) # make a slightly bigger figure\n",
    "plt.hist2d(sample[\"Hour\"],\n",
    "           sample[\"Day of Week\"],\n",
    "           bins=[24,7],\n",
    "           weights=sample[\"# Vehicles - E-ZPass\"])\n",
    "\n",
    "# This next part is optional, but adds a legend telling you the value\n",
    "# of each bin (cell) in the histogram\n",
    "plt.colorbar()"
   ]
  },
  {
   "cell_type": "markdown",
   "metadata": {},
   "source": [
    "Great! So lets disect this. First, we see that across all days (our y axis) the first four or so hours of the day are dark blue (this is the first four columns or so), indicating relatively little traffic. Then we see that for the days 0 through 4 we get a spike in traffic, shown as more yellow intensity cells in the image, but this isn't really true for the last two days of the week (the weekend - the top two rows).\n",
    "\n",
    "Time data is an interesting case for using heat maps, because we often have cycles of activity within a time period -- in this case weeks -- and that allows us to have two ordered dimensions.\n",
    "\n",
    "Now would be a good time for you to grab control and see if you could look at a different dimension -- months. Could you plot a heat map where one axis is months and the other is, say, week of the month?"
   ]
  }
 ],
 "metadata": {
  "kernelspec": {
   "display_name": "ds",
   "language": "python",
   "name": "python3"
  },
  "language_info": {
   "codemirror_mode": {
    "name": "ipython",
    "version": 3
   },
   "file_extension": ".py",
   "mimetype": "text/x-python",
   "name": "python",
   "nbconvert_exporter": "python",
   "pygments_lexer": "ipython3",
   "version": "3.11.10"
  }
 },
 "nbformat": 4,
 "nbformat_minor": 4
}
