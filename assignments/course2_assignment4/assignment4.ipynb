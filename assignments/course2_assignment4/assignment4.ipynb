{
 "cells": [
  {
   "cell_type": "markdown",
   "metadata": {
    "deletable": false,
    "editable": false,
    "nbgrader": {
     "cell_type": "markdown",
     "checksum": "7539457c865cc3aec382650368b3be67",
     "grade": false,
     "grade_id": "cell-2ccb6b5d27ca3b7d",
     "locked": true,
     "schema_version": 3,
     "solution": false,
     "task": false
    }
   },
   "source": [
    "# Assignment 4\n",
    "\n",
    "Before working on this assignment please read these instructions fully. In the submission area, you will notice that you can click the link to **Preview the Grading** for each step of the assignment. This is the criteria that will be used for peer grading. Please familiarize yourself with the criteria before beginning the assignment.\n",
    "\n",
    "This assignment requires that you find **at least two datasets** on the web which are related, and that you visualize these datasets to answer the assignment question. You are free to utilize datasets with any location or domain, the usage of **Ann Arbor sports and athletics** datasets in the example is just a suggestion.\n",
    "\n",
    "You are welcome to choose datasets at your discretion, but keep in mind **they will be shared with your peers**, so choose appropriate datasets. Sensitive, confidential, illicit, and proprietary materials are not good choices for datasets for this assignment. You are welcome to upload datasets of your own as well, and link to them using a third party repository such as github, pastebin, etc. Please be aware of the Coursera terms of service with respect to intellectual property.\n",
    "\n",
    "Also, you are welcome to preserve data in its original language, but for the purposes of grading you should provide english translations. You are welcome to provide multiple visuals in different languages if you would like!\n",
    "\n",
    "As this assignment is for the whole course, you must incorporate principles discussed in the first week, such as having as high data-ink ratio (Tufte) and aligning with Cairo’s principles of truth, beauty, function, and insight.\n",
    "\n",
    "Here are the assignment instructions:\n",
    "\n",
    " * You must state a question you are seeking to answer with your visualizations.\n",
    " * You must provide at least two links to available datasets. These could be links to files such as CSV or Excel files, or links to websites which might have data in tabular form, such as Wikipedia pages.\n",
    " * You must upload an image which addresses the research question you stated. In addition to addressing the question, this visual should follow Cairo's principles of truthfulness, functionality, beauty, and insightfulness.\n",
    " * You must contribute a short (1-2 paragraph) written justification of how your visualization addresses your stated research question.\n",
    "\n",
    "## Tips\n",
    "* Wikipedia is an excellent source of data, and I strongly encourage you to explore it for new data sources.\n",
    "* Many governments run open data initiatives at the city, region, and country levels, and these are wonderful resources for localized data sources.\n",
    "* Several international agencies, such as the [United Nations](http://data.un.org/), the [World Bank](http://data.worldbank.org/), the [Global Open Data Index](http://index.okfn.org/place/) are other great places to look for data.\n",
    "* This assignment requires you to convert and clean datafiles. Check out the discussion forums for tips on how to do this from various sources, and share your successes with your fellow students!\n",
    "\n",
    "## Example\n",
    "Looking for an example? Here's what our course assistant put together as an example! [Example Solution File](./readonly/Assignment4_example.pdf)"
   ]
  },
  {
   "cell_type": "markdown",
   "metadata": {},
   "source": [
    "## Chicago Weather and Crime Pattern"
   ]
  },
  {
   "cell_type": "markdown",
   "metadata": {},
   "source": [
    "#### Fetching Crime Data from City of Chicago Data Portal's Socrata Platform."
   ]
  },
  {
   "cell_type": "code",
   "execution_count": 2,
   "metadata": {},
   "outputs": [],
   "source": [
    "import requests\n",
    "import csv\n",
    "import os\n",
    "from typing import Optional\n",
    "\n",
    "def get_crime_data(\n",
    "    app_token: str,\n",
    "    n_pages: Optional[int] = None,\n",
    "    page_limit: int = 1000,\n",
    ") -> list[dict]:\n",
    "    \"\"\"\n",
    "    Fetch crime data from the City of Chicago API.\n",
    "\n",
    "    Args:\n",
    "        app_token (str): The application token for API access.\n",
    "        n_pages (Optional[int]): The maximum number of pages to fetch. Fetches all pages if None.\n",
    "        page_limit (int): Number of records per page (default: 1000).\n",
    "\n",
    "    Returns:\n",
    "        list[dict]: A list of JSON objects containing the crime data.\n",
    "    \"\"\"\n",
    "    api_endpoint = \"https://data.cityofchicago.org/resource/ijzp-q8t2.json\"\n",
    "    headers = {\"X-App-Token\": app_token}\n",
    "    params = {\"$limit\": page_limit}\n",
    "    responses = []\n",
    "    page = 0\n",
    "    while True:\n",
    "        params[\"$offset\"] = page * page_limit\n",
    "        try:\n",
    "            response = requests.get(url=api_endpoint, headers=headers, params=params)\n",
    "            if response.status_code == 200:\n",
    "                data = response.json()\n",
    "                if not data:\n",
    "                    print(\"No more data to fetch.\")\n",
    "                    break\n",
    "                responses.extend(data)\n",
    "                print(f\"{page + 1} page(s) queried.\")\n",
    "                page += 1\n",
    "                if n_pages and page >= n_pages:\n",
    "                    print(f\"Page limit of {n_pages} reached.\")\n",
    "                    break\n",
    "            else:\n",
    "                print(f\"API request failed with status code of {response.status_code}\")\n",
    "                break\n",
    "        except Exception as e:\n",
    "            print(e)\n",
    "            break\n",
    "    return responses\n",
    "\n",
    "def save_data_as_csv(filename: str, data: list[dict]) -> None:\n",
    "    \"\"\"\n",
    "    Saves data as CSV file.\n",
    "    \"\"\"\n",
    "    with open(filename, mode=\"w\", newline=\"\", encoding=\"utf-8\") as outfile:\n",
    "        writer = csv.writer(outfile)\n",
    "        header = data[0].keys()\n",
    "        writer.writerow(header)\n",
    "        for row in data:\n",
    "            writer.writerow(row.values())\n",
    "        print(f\"Data saved as {os.getcwd() + '/' + filename}\")\n"
   ]
  },
  {
   "cell_type": "code",
   "execution_count": null,
   "metadata": {},
   "outputs": [
    {
     "name": "stdout",
     "output_type": "stream",
     "text": [
      "1 page(s) queried.\n",
      "2 page(s) queried.\n",
      "3 page(s) queried.\n",
      "4 page(s) queried.\n",
      "5 page(s) queried.\n",
      "6 page(s) queried.\n",
      "7 page(s) queried.\n",
      "8 page(s) queried.\n",
      "9 page(s) queried.\n",
      "10 page(s) queried.\n",
      "11 page(s) queried.\n",
      "12 page(s) queried.\n",
      "13 page(s) queried.\n",
      "14 page(s) queried.\n",
      "15 page(s) queried.\n"
     ]
    }
   ],
   "source": [
    "from dotenv import load_dotenv\n",
    "\n",
    "load_dotenv()\n",
    "app_token = os.getenv(\"APP_TOKEN\")\n",
    "output_filename = \"crimes.csv\"\n",
    "\n",
    "data_dict = get_crime_data(app_token=app_token)\n",
    "save_data_as_csv(filename=output_filename, data=data_dict)"
   ]
  }
 ],
 "metadata": {
  "coursera": {
   "schema_names": [
    "mooc_adswpy_v1_assignment4"
   ]
  },
  "kernelspec": {
   "display_name": "ds",
   "language": "python",
   "name": "python3"
  },
  "language_info": {
   "codemirror_mode": {
    "name": "ipython",
    "version": 3
   },
   "file_extension": ".py",
   "mimetype": "text/x-python",
   "name": "python",
   "nbconvert_exporter": "python",
   "pygments_lexer": "ipython3",
   "version": "3.11.10"
  }
 },
 "nbformat": 4,
 "nbformat_minor": 4
}
