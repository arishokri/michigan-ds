{
 "cells": [
  {
   "cell_type": "markdown",
   "metadata": {
    "deletable": false,
    "editable": false,
    "nbgrader": {
     "cell_type": "markdown",
     "checksum": "7539457c865cc3aec382650368b3be67",
     "grade": false,
     "grade_id": "cell-2ccb6b5d27ca3b7d",
     "locked": true,
     "schema_version": 3,
     "solution": false,
     "task": false
    }
   },
   "source": [
    "# Assignment 4\n",
    "\n",
    "Before working on this assignment please read these instructions fully. In the submission area, you will notice that you can click the link to **Preview the Grading** for each step of the assignment. This is the criteria that will be used for peer grading. Please familiarize yourself with the criteria before beginning the assignment.\n",
    "\n",
    "This assignment requires that you find **at least two datasets** on the web which are related, and that you visualize these datasets to answer the assignment question. You are free to utilize datasets with any location or domain, the usage of **Ann Arbor sports and athletics** datasets in the example is just a suggestion.\n",
    "\n",
    "You are welcome to choose datasets at your discretion, but keep in mind **they will be shared with your peers**, so choose appropriate datasets. Sensitive, confidential, illicit, and proprietary materials are not good choices for datasets for this assignment. You are welcome to upload datasets of your own as well, and link to them using a third party repository such as github, pastebin, etc. Please be aware of the Coursera terms of service with respect to intellectual property.\n",
    "\n",
    "Also, you are welcome to preserve data in its original language, but for the purposes of grading you should provide english translations. You are welcome to provide multiple visuals in different languages if you would like!\n",
    "\n",
    "As this assignment is for the whole course, you must incorporate principles discussed in the first week, such as having as high data-ink ratio (Tufte) and aligning with Cairo’s principles of truth, beauty, function, and insight.\n",
    "\n",
    "Here are the assignment instructions:\n",
    "\n",
    " * You must state a question you are seeking to answer with your visualizations.\n",
    " * You must provide at least two links to available datasets. These could be links to files such as CSV or Excel files, or links to websites which might have data in tabular form, such as Wikipedia pages.\n",
    " * You must upload an image which addresses the research question you stated. In addition to addressing the question, this visual should follow Cairo's principles of truthfulness, functionality, beauty, and insightfulness.\n",
    " * You must contribute a short (1-2 paragraph) written justification of how your visualization addresses your stated research question.\n",
    "\n",
    "## Tips\n",
    "* Wikipedia is an excellent source of data, and I strongly encourage you to explore it for new data sources.\n",
    "* Many governments run open data initiatives at the city, region, and country levels, and these are wonderful resources for localized data sources.\n",
    "* Several international agencies, such as the [United Nations](http://data.un.org/), the [World Bank](http://data.worldbank.org/), the [Global Open Data Index](http://index.okfn.org/place/) are other great places to look for data.\n",
    "* This assignment requires you to convert and clean datafiles. Check out the discussion forums for tips on how to do this from various sources, and share your successes with your fellow students!\n",
    "\n",
    "## Example\n",
    "Looking for an example? Here's what our course assistant put together as an example! [Example Solution File](./readonly/Assignment4_example.pdf)"
   ]
  },
  {
   "cell_type": "markdown",
   "metadata": {},
   "source": [
    "## Crime Seasonality in Chicago"
   ]
  },
  {
   "cell_type": "markdown",
   "metadata": {},
   "source": [
    "### 1. Region and Domain\n",
    "\n",
    "Chicago, IL USA\n",
    "Crime, Public Safety and Weather\n",
    "\n",
    "### 2. Research Question\n",
    "\n",
    "How does weather patterns (specifically temperature) affect crime rates in Chicago?\n",
    "\n",
    "### 3. Links\n",
    "\n",
    "[City of Chicago Crime Data](https://data.cityofchicago.org/Public-Safety/Crimes-2001-to-Present/ijzp-q8t2/about_data) (We used the API for ease of replication)\n",
    "[NCDC Weather Data Tool](https://www.ncdc.noaa.gov/cdo-web/search)\n",
    "\n",
    "### 4. Image\n",
    "\n",
    "### 5. Discussion\n",
    "\n",
    "Majority of the crimes in Chicago area show a generally negative correlation with temperatures. As the temperatures rise in the summer (peaking around July and August) so do most of the crimes. We examined the total number of crimes committed for the period 2005-2024 as well as **average temperatures, precipiation, and wind speed**. The results were presented on a monthly aggregate. We see that the most significant covariate of crimes was the average monthly temperature.\n",
    "\n",
    "This is relatively easy to reason that in the colder months, the drop in temperatures brings inconvenience to the criminal committing crimes. Perhaps *criminals are the most hard-working and determined people on the planet*!!!\n",
    "\n",
    "Crime Categories Included:\n",
    "\n",
    "`'gambling','other narcotic violation','public indecency','homicide','liquor law violation','public peace violation','concealed carry license violation','arson','weapons violation','interference with public officer','sex offense','robbery','battery','assault','burglary','intimidation','criminal sexual assault','criminal damage','theft','stalking'`\n",
    "\n",
    "Adherence to Cairo's Principles:\n",
    "- **Truthfulness:** The data cleaning steps for this visualization did not omit any data without justification just to prove the point. The x and y axis have remained intact and not truncated to represent the true effect size and we've practiced abstinance from exaggerating such effects.\n",
    "- **Beauty:** A colormap has been used for the bar chart reflecting low and high temperatures making it easier to see the peaks and lows in temperature without looking at the scale.\n",
    "- **Functionality:** The line chart has been superimposed on the bar chart with a shared x axis to save visual real estate as well as making it easier to read the shared trends without having to look at two separate graphs.\n",
    "- **Insightfulness:** We have only retained the graphs that clearly show (or fail to show) relationship between weather patterns and crime rates omitting unnecessary information while stressing the effect discussed in research question."
   ]
  }
 ],
 "metadata": {
  "coursera": {
   "schema_names": [
    "mooc_adswpy_v1_assignment4"
   ]
  },
  "kernelspec": {
   "display_name": "ds",
   "language": "python",
   "name": "python3"
  },
  "language_info": {
   "codemirror_mode": {
    "name": "ipython",
    "version": 3
   },
   "file_extension": ".py",
   "mimetype": "text/x-python",
   "name": "python",
   "nbconvert_exporter": "python",
   "pygments_lexer": "ipython3",
   "version": "3.11.10"
  }
 },
 "nbformat": 4,
 "nbformat_minor": 4
}
