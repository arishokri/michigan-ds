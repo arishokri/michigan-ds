{
 "cells": [
  {
   "cell_type": "code",
   "execution_count": 15,
   "metadata": {},
   "outputs": [],
   "source": [
    "import pandas as pd\n",
    "import numpy as np\n",
    "import matplotlib.pyplot as plt"
   ]
  },
  {
   "cell_type": "markdown",
   "metadata": {},
   "source": [
    "### Importing and Cleaning for Crime Data"
   ]
  },
  {
   "cell_type": "code",
   "execution_count": null,
   "metadata": {},
   "outputs": [],
   "source": [
    "# Importing Dataframes\n",
    "crimes = pd.read_csv(\n",
    "    \"data/crimes_combined.csv\",\n",
    "    index_col=0,\n",
    "    dtype={\n",
    "        \"beat\": \"Int64\",\n",
    "        \"community_area\": str,\n",
    "        \"fbi_code\": str,\n",
    "    },\n",
    "    low_memory=False,\n",
    ")\n",
    "codes = pd.read_csv(\"data/IUCR_Codes.csv\", index_col=0)"
   ]
  },
  {
   "cell_type": "code",
   "execution_count": null,
   "metadata": {},
   "outputs": [],
   "source": [
    "crimes['date'] = pd.to_datetime(crimes['date'])\n",
    "crimes['domestic'] = crimes['domestic'].astype(str).str.lower()\n",
    "crimes['domestic'] = crimes['domestic'].apply(lambda x: True if x != 'false' else False)\n",
    "\n",
    "crimes.sort_values(by='date', ascending=False, inplace=True)"
   ]
  },
  {
   "cell_type": "code",
   "execution_count": null,
   "metadata": {},
   "outputs": [],
   "source": [
    "# Removing leading zeros from IUCR codes because of mistmatch between the two datasets.\n",
    "codes.index = codes.index.str.lstrip(\"0\")\n",
    "crimes[\"iucr\"] = crimes[\"iucr\"].str.lstrip(\"0\")"
   ]
  },
  {
   "cell_type": "code",
   "execution_count": null,
   "metadata": {},
   "outputs": [],
   "source": [
    "print(crimes.columns)\n",
    "print(codes.columns)\n",
    "\n",
    "print(crimes.shape)\n",
    "print(codes.shape)\n",
    "\n",
    "print(crimes.dtypes)\n",
    "print(codes.dtypes)"
   ]
  },
  {
   "cell_type": "code",
   "execution_count": null,
   "metadata": {},
   "outputs": [],
   "source": [
    "# Joining crimes and IUCR codes datasets\n",
    "joined = crimes.join(other=codes[[\"PRIMARY DESCRIPTION\", \"SECONDARY DESCRIPTION\"]], on=\"iucr\", how=\"left\")"
   ]
  },
  {
   "cell_type": "code",
   "execution_count": null,
   "metadata": {},
   "outputs": [],
   "source": [
    "print(joined.shape)\n",
    "joined.head()"
   ]
  },
  {
   "cell_type": "markdown",
   "metadata": {},
   "source": [
    "#### Importing and Cleaning Weather Data"
   ]
  },
  {
   "cell_type": "code",
   "execution_count": 72,
   "metadata": {},
   "outputs": [],
   "source": [
    "weather = pd.read_csv(\"data/weather_data.csv\", low_memory=False)"
   ]
  },
  {
   "cell_type": "code",
   "execution_count": 73,
   "metadata": {},
   "outputs": [],
   "source": [
    "weather.columns = [column.lower() for column in weather.columns]\n",
    "weather['date'] = pd.to_datetime(weather['date'])\n",
    "\n",
    "weather.sort_values(by=\"date\", ascending=False, inplace=True)"
   ]
  },
  {
   "cell_type": "code",
   "execution_count": 74,
   "metadata": {},
   "outputs": [
    {
     "data": {
      "text/plain": [
       "station            object\n",
       "name               object\n",
       "date       datetime64[ns]\n",
       "awnd              float64\n",
       "fmtm              float64\n",
       "pgtm              float64\n",
       "prcp              float64\n",
       "snow              float64\n",
       "snwd              float64\n",
       "tavg              float64\n",
       "tmax              float64\n",
       "tmin              float64\n",
       "tsun              float64\n",
       "wdf2              float64\n",
       "wdf5              float64\n",
       "wesd              float64\n",
       "wsf2              float64\n",
       "wsf5              float64\n",
       "wt01              float64\n",
       "wt02              float64\n",
       "wt03              float64\n",
       "wt04              float64\n",
       "wt05              float64\n",
       "wt06              float64\n",
       "wt07              float64\n",
       "wt08              float64\n",
       "wt09              float64\n",
       "wt10              float64\n",
       "wt11              float64\n",
       "wt13              float64\n",
       "wt14              float64\n",
       "wt15              float64\n",
       "wt16              float64\n",
       "wt17              float64\n",
       "wt18              float64\n",
       "wt19              float64\n",
       "wt21              float64\n",
       "wt22              float64\n",
       "wv03              float64\n",
       "wv20              float64\n",
       "dtype: object"
      ]
     },
     "execution_count": 74,
     "metadata": {},
     "output_type": "execute_result"
    }
   ],
   "source": [
    "weather.dtypes"
   ]
  },
  {
   "cell_type": "code",
   "execution_count": 83,
   "metadata": {},
   "outputs": [],
   "source": [
    "metric_columns = weather.columns[:13].drop(['station', 'date', 'name', 'tsun'])"
   ]
  },
  {
   "cell_type": "code",
   "execution_count": 84,
   "metadata": {},
   "outputs": [],
   "source": [
    "across_stations = weather.groupby(by='date')[metric_columns].agg('mean')\n",
    "across_stations.reset_index(inplace=True)"
   ]
  },
  {
   "cell_type": "markdown",
   "metadata": {},
   "source": [
    "### Basic Visualizations"
   ]
  },
  {
   "cell_type": "code",
   "execution_count": 98,
   "metadata": {},
   "outputs": [],
   "source": [
    "monthly = across_stations.groupby(across_stations[\"date\"].dt.to_period(\"M\"))[\n",
    "    [\"awnd\", \"fmtm\", \"pgtm\", \"prcp\", \"snow\", \"snwd\", \"tavg\", \"tmax\", \"tmin\"]\n",
    "]\n",
    "\n",
    "monthly_averages = monthly.agg(\"mean\").reset_index(names='period')\n",
    "monthly_totals = monthly.agg(\"sum\").reset_index(names='period')"
   ]
  },
  {
   "cell_type": "code",
   "execution_count": 99,
   "metadata": {},
   "outputs": [
    {
     "data": {
      "text/html": [
       "<div>\n",
       "<style scoped>\n",
       "    .dataframe tbody tr th:only-of-type {\n",
       "        vertical-align: middle;\n",
       "    }\n",
       "\n",
       "    .dataframe tbody tr th {\n",
       "        vertical-align: top;\n",
       "    }\n",
       "\n",
       "    .dataframe thead th {\n",
       "        text-align: right;\n",
       "    }\n",
       "</style>\n",
       "<table border=\"1\" class=\"dataframe\">\n",
       "  <thead>\n",
       "    <tr style=\"text-align: right;\">\n",
       "      <th></th>\n",
       "      <th>period</th>\n",
       "      <th>awnd</th>\n",
       "      <th>fmtm</th>\n",
       "      <th>pgtm</th>\n",
       "      <th>prcp</th>\n",
       "      <th>snow</th>\n",
       "      <th>snwd</th>\n",
       "      <th>tavg</th>\n",
       "      <th>tmax</th>\n",
       "      <th>tmin</th>\n",
       "    </tr>\n",
       "  </thead>\n",
       "  <tbody>\n",
       "    <tr>\n",
       "      <th>0</th>\n",
       "      <td>2000-01</td>\n",
       "      <td>340.705</td>\n",
       "      <td>35994.0</td>\n",
       "      <td>36852.0</td>\n",
       "      <td>1.000</td>\n",
       "      <td>13.6</td>\n",
       "      <td>56.0</td>\n",
       "      <td>811.5</td>\n",
       "      <td>1009.0</td>\n",
       "      <td>585.5</td>\n",
       "    </tr>\n",
       "    <tr>\n",
       "      <th>1</th>\n",
       "      <td>2000-02</td>\n",
       "      <td>327.270</td>\n",
       "      <td>40481.0</td>\n",
       "      <td>39784.5</td>\n",
       "      <td>1.430</td>\n",
       "      <td>11.6</td>\n",
       "      <td>78.0</td>\n",
       "      <td>1031.0</td>\n",
       "      <td>1255.0</td>\n",
       "      <td>794.5</td>\n",
       "    </tr>\n",
       "    <tr>\n",
       "      <th>2</th>\n",
       "      <td>2000-03</td>\n",
       "      <td>311.705</td>\n",
       "      <td>38891.5</td>\n",
       "      <td>39955.5</td>\n",
       "      <td>1.085</td>\n",
       "      <td>0.0</td>\n",
       "      <td>0.0</td>\n",
       "      <td>1405.0</td>\n",
       "      <td>1748.0</td>\n",
       "      <td>1084.5</td>\n",
       "    </tr>\n",
       "    <tr>\n",
       "      <th>3</th>\n",
       "      <td>2000-04</td>\n",
       "      <td>310.170</td>\n",
       "      <td>40780.0</td>\n",
       "      <td>40161.5</td>\n",
       "      <td>4.620</td>\n",
       "      <td>1.6</td>\n",
       "      <td>1.0</td>\n",
       "      <td>1461.5</td>\n",
       "      <td>1762.5</td>\n",
       "      <td>1148.5</td>\n",
       "    </tr>\n",
       "    <tr>\n",
       "      <th>4</th>\n",
       "      <td>2000-05</td>\n",
       "      <td>303.885</td>\n",
       "      <td>44216.0</td>\n",
       "      <td>42602.0</td>\n",
       "      <td>4.940</td>\n",
       "      <td>0.0</td>\n",
       "      <td>0.0</td>\n",
       "      <td>1964.0</td>\n",
       "      <td>2262.0</td>\n",
       "      <td>1650.0</td>\n",
       "    </tr>\n",
       "    <tr>\n",
       "      <th>...</th>\n",
       "      <td>...</td>\n",
       "      <td>...</td>\n",
       "      <td>...</td>\n",
       "      <td>...</td>\n",
       "      <td>...</td>\n",
       "      <td>...</td>\n",
       "      <td>...</td>\n",
       "      <td>...</td>\n",
       "      <td>...</td>\n",
       "      <td>...</td>\n",
       "    </tr>\n",
       "    <tr>\n",
       "      <th>294</th>\n",
       "      <td>2024-07</td>\n",
       "      <td>223.570</td>\n",
       "      <td>0.0</td>\n",
       "      <td>0.0</td>\n",
       "      <td>6.100</td>\n",
       "      <td>0.0</td>\n",
       "      <td>0.0</td>\n",
       "      <td>2311.0</td>\n",
       "      <td>2605.0</td>\n",
       "      <td>2078.0</td>\n",
       "    </tr>\n",
       "    <tr>\n",
       "      <th>295</th>\n",
       "      <td>2024-08</td>\n",
       "      <td>245.600</td>\n",
       "      <td>0.0</td>\n",
       "      <td>1480.0</td>\n",
       "      <td>3.170</td>\n",
       "      <td>0.0</td>\n",
       "      <td>0.0</td>\n",
       "      <td>2308.0</td>\n",
       "      <td>2603.5</td>\n",
       "      <td>2058.0</td>\n",
       "    </tr>\n",
       "    <tr>\n",
       "      <th>296</th>\n",
       "      <td>2024-09</td>\n",
       "      <td>236.455</td>\n",
       "      <td>0.0</td>\n",
       "      <td>5683.0</td>\n",
       "      <td>1.605</td>\n",
       "      <td>0.0</td>\n",
       "      <td>0.0</td>\n",
       "      <td>2118.0</td>\n",
       "      <td>2414.0</td>\n",
       "      <td>1854.0</td>\n",
       "    </tr>\n",
       "    <tr>\n",
       "      <th>297</th>\n",
       "      <td>2024-10</td>\n",
       "      <td>298.750</td>\n",
       "      <td>0.0</td>\n",
       "      <td>1220.0</td>\n",
       "      <td>1.200</td>\n",
       "      <td>0.0</td>\n",
       "      <td>0.0</td>\n",
       "      <td>1852.0</td>\n",
       "      <td>2181.0</td>\n",
       "      <td>1545.0</td>\n",
       "    </tr>\n",
       "    <tr>\n",
       "      <th>298</th>\n",
       "      <td>2024-11</td>\n",
       "      <td>93.620</td>\n",
       "      <td>0.0</td>\n",
       "      <td>1342.5</td>\n",
       "      <td>1.870</td>\n",
       "      <td>0.0</td>\n",
       "      <td>0.0</td>\n",
       "      <td>588.0</td>\n",
       "      <td>616.0</td>\n",
       "      <td>486.0</td>\n",
       "    </tr>\n",
       "  </tbody>\n",
       "</table>\n",
       "<p>299 rows × 10 columns</p>\n",
       "</div>"
      ],
      "text/plain": [
       "      period     awnd     fmtm     pgtm   prcp  snow  snwd    tavg    tmax  \\\n",
       "0    2000-01  340.705  35994.0  36852.0  1.000  13.6  56.0   811.5  1009.0   \n",
       "1    2000-02  327.270  40481.0  39784.5  1.430  11.6  78.0  1031.0  1255.0   \n",
       "2    2000-03  311.705  38891.5  39955.5  1.085   0.0   0.0  1405.0  1748.0   \n",
       "3    2000-04  310.170  40780.0  40161.5  4.620   1.6   1.0  1461.5  1762.5   \n",
       "4    2000-05  303.885  44216.0  42602.0  4.940   0.0   0.0  1964.0  2262.0   \n",
       "..       ...      ...      ...      ...    ...   ...   ...     ...     ...   \n",
       "294  2024-07  223.570      0.0      0.0  6.100   0.0   0.0  2311.0  2605.0   \n",
       "295  2024-08  245.600      0.0   1480.0  3.170   0.0   0.0  2308.0  2603.5   \n",
       "296  2024-09  236.455      0.0   5683.0  1.605   0.0   0.0  2118.0  2414.0   \n",
       "297  2024-10  298.750      0.0   1220.0  1.200   0.0   0.0  1852.0  2181.0   \n",
       "298  2024-11   93.620      0.0   1342.5  1.870   0.0   0.0   588.0   616.0   \n",
       "\n",
       "       tmin  \n",
       "0     585.5  \n",
       "1     794.5  \n",
       "2    1084.5  \n",
       "3    1148.5  \n",
       "4    1650.0  \n",
       "..      ...  \n",
       "294  2078.0  \n",
       "295  2058.0  \n",
       "296  1854.0  \n",
       "297  1545.0  \n",
       "298   486.0  \n",
       "\n",
       "[299 rows x 10 columns]"
      ]
     },
     "execution_count": 99,
     "metadata": {},
     "output_type": "execute_result"
    }
   ],
   "source": [
    "monthly_averages\n",
    "monthly_totals"
   ]
  },
  {
   "cell_type": "code",
   "execution_count": 102,
   "metadata": {},
   "outputs": [
    {
     "data": {
      "text/plain": [
       "<BarContainer object of 299 artists>"
      ]
     },
     "execution_count": 102,
     "metadata": {},
     "output_type": "execute_result"
    },
    {
     "data": {
      "image/png": "[encoded data removed]",
      "text/plain": [
       "<Figure size 1000x1000 with 1 Axes>"
      ]
     },
     "metadata": {},
     "output_type": "display_data"
    }
   ],
   "source": [
    "plt.figure(figsize=(10, 10))\n",
    "\n",
    "plt.bar(monthly_totals['period'].astype(str), monthly_totals['snow'])"
   ]
  }
 ],
 "metadata": {
  "kernelspec": {
   "display_name": "ds",
   "language": "python",
   "name": "python3"
  },
  "language_info": {
   "codemirror_mode": {
    "name": "ipython",
    "version": 3
   },
   "file_extension": ".py",
   "mimetype": "text/x-python",
   "name": "python",
   "nbconvert_exporter": "python",
   "pygments_lexer": "ipython3",
   "version": "3.11.10"
  }
 },
 "nbformat": 4,
 "nbformat_minor": 2
}
