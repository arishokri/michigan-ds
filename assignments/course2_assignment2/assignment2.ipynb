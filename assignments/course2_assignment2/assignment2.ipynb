{
 "cells": [
  {
   "cell_type": "code",
   "execution_count": null,
   "metadata": {
    "deletable": false,
    "editable": false,
    "nbgrader": {
     "cell_type": "code",
     "checksum": "e45d05a7e6705e7bc18fff5d5890ef58",
     "grade": false,
     "grade_id": "cell-44ca835c70f3040a",
     "locked": true,
     "schema_version": 3,
     "solution": false,
     "task": false
    }
   },
   "outputs": [],
   "source": [
    "%%javascript\n",
    "IPython.OutputArea.prototype._should_scroll = function(lines) {\n",
    "    return false; // disable scroll bar when displaying Folium map\n",
    "}"
   ]
  },
  {
   "cell_type": "markdown",
   "metadata": {
    "deletable": false,
    "editable": false,
    "nbgrader": {
     "cell_type": "markdown",
     "checksum": "ae6111747a75bdb5c5393f44d1045577",
     "grade": false,
     "grade_id": "cell-c676d66924c74eea",
     "locked": true,
     "schema_version": 3,
     "solution": false,
     "task": false
    }
   },
   "source": [
    "# Assignment 2\n",
    "\n",
    "Before working on this assignment please read these instructions fully. In the submission area, you will notice that you can click the link to **Preview the Grading** for each step of the assignment. This is the criteria that will be used for peer grading. Please familiarize yourself with the criteria before beginning the assignment.\n",
    "\n",
    "The data for this assignment comes from a subset of The National Centers for Environmental Information (NCEI) [Global Historical Climatology Network daily (GHCNd)](https://www.ncei.noaa.gov/products/land-based-station/global-historical-climatology-network-daily) (GHCN-Daily). The GHCN-Daily is comprised of daily climate records from thousands of land surface stations across the globe - it's a wonderfully large dataset to play with! In particular, you will be asked to use data from the Ann Arbor Michigan location (my home!). and this is stored in the file: `assets/fb441e62df2d58994928907a91895ec62c2c42e6cd075c2700843b89.csv`\n",
    "\n",
    "Each row in this datafile corresponds to a single observation from a weather station, and has the following variables:\n",
    "* **id** : station identification code\n",
    "* **date** : date in YYYY-MM-DD format (e.g. 2012-01-24 = January 24, 2012)\n",
    "* **element** : indicator of element type\n",
    "    * TMAX : Maximum temperature (tenths of degrees C)\n",
    "    * TMIN : Minimum temperature (tenths of degrees C)\n",
    "* **value** : data value for element (tenths of degrees C)\n",
    "\n",
    "For this assignment, you must:\n",
    "\n",
    "1. Read the documentation and familiarize yourself with the dataset, then write a python notebook which plots line graphs of the record high and record low temperatures by day of the year over the period 2005-2014. The area between the record high and record low temperatures for each day should be shaded.\n",
    "2. Overlay a scatter of the 2015 data for any points (highs and lows) for which the ten year record (2005-2014) record high or record low was broken in 2015. (Based on the graph, do you think extreme weather is getting more frequent in 2015?)\n",
    "3. Watch out for leap days (i.e. February 29th), it is reasonable to remove these points from the dataset for the purpose of this visualization.\n",
    "4. Make the visual nice! Leverage principles from the first module in this course when developing your solution. Consider issues such as legends, labels, and chart junk.\n",
    "\n",
    "I've written some steps I think would be good to go through, but there are other ways to solve this assignment so feel free to explore the pandas library! What I really want to see is an image that looks like this sketch I drew at my desk:\n",
    "\n",
    "![](assets/chris_sketch.png)"
   ]
  },
  {
   "cell_type": "code",
   "execution_count": null,
   "metadata": {
    "deletable": false,
    "editable": false,
    "nbgrader": {
     "cell_type": "code",
     "checksum": "d8d9355fc55599cd2ad34fdd140baac1",
     "grade": false,
     "grade_id": "cell-f01cb0e8645e7c07",
     "locked": true,
     "schema_version": 3,
     "solution": false,
     "task": false
    }
   },
   "outputs": [],
   "source": [
    "#  I'll be using the folium package to render the data into a map in Jupyter.\n",
    "import folium\n",
    "import pandas as pd\n",
    "\n",
    "# get the location information for this dataset\n",
    "df = pd.read_csv(\"assets/BinSize_d400.csv\")\n",
    "station_locations_by_hash = df[\n",
    "    df[\"hash\"] == \"fb441e62df2d58994928907a91895ec62c2c42e6cd075c2700843b89\"\n",
    "]\n",
    "\n",
    "# get longitude and lattitude to plot\n",
    "lons = station_locations_by_hash[\"LONGITUDE\"].tolist()\n",
    "lats = station_locations_by_hash[\"LATITUDE\"].tolist()\n",
    "\n",
    "# plot on a beautiful folium map\n",
    "my_map = folium.Map(location=[lats[0], lons[0]], height=500, zoom_start=9)\n",
    "for lat, lon in zip(lats, lons):\n",
    "    folium.Marker([lat, lon]).add_to(my_map)\n",
    "\n",
    "# render map in Jupyter\n",
    "display(my_map)"
   ]
  },
  {
   "cell_type": "markdown",
   "metadata": {
    "deletable": false,
    "editable": false,
    "nbgrader": {
     "cell_type": "markdown",
     "checksum": "d2ee9d3c5ac53844b3ed48aa157f6204",
     "grade": false,
     "grade_id": "cell-695e4689bc5509b6",
     "locked": true,
     "schema_version": 3,
     "solution": false,
     "task": false
    }
   },
   "source": [
    "## Step 1\n",
    "Load the dataset and transform the data into Celsius (refer to documentation) then extract all of the rows which have minimum or maximum temperatures.\n",
    "\n",
    "__hint: when I did this step I had two DataFrame objects, each with ~80,000 entries in it__"
   ]
  },
  {
   "cell_type": "code",
   "execution_count": null,
   "metadata": {
    "deletable": false,
    "editable": false,
    "nbgrader": {
     "cell_type": "code",
     "checksum": "dbfe393a2232a653ebbd81e518237a83",
     "grade": false,
     "grade_id": "cell-f508059dd84e9b7c",
     "locked": true,
     "schema_version": 3,
     "solution": false,
     "task": false
    }
   },
   "outputs": [],
   "source": [
    "import pandas as pd\n",
    "import numpy as np\n",
    "\n",
    "# Loading dataset.\n",
    "df = pd.read_csv(\"assets/fb441e62df2d58994928907a91895ec62c2c42e6cd075c2700843b89.csv\")\n",
    "# Transferring Date value and converting degrees.\n",
    "df[\"Date\"] = pd.to_datetime(df[\"Date\"])\n",
    "df[\"Data_Value\"] = df[\"Data_Value\"] / 10\n",
    "df.head()"
   ]
  },
  {
   "cell_type": "markdown",
   "metadata": {
    "deletable": false,
    "editable": false,
    "nbgrader": {
     "cell_type": "markdown",
     "checksum": "76f2478088402765c38ed2b9db771916",
     "grade": false,
     "grade_id": "cell-c5718635688cb408",
     "locked": true,
     "schema_version": 3,
     "solution": false,
     "task": false
    }
   },
   "source": [
    "## Step 2\n",
    "In order to visualize the data we would plot the min and max data for each day of the year between the years 2005 and 2014 across all weather stations. But we also need to find out when the min or max temperature in 2015 falls below the min or rises above the max for the previous decade.\n",
    "\n",
    "If you did step 1 you have two Series objects with min and max times for the years 2005 through 2015. You can use Pandas `groupby` to create max and min temperature Series objects across all weather stations for each day of these years, and you can deal with the records for February 29 (the leap year) by dropping them.\n",
    "\n",
    "__hint: when I finished this step, I had two DataFrame objects, each with exactly 4015 observations in them__"
   ]
  },
  {
   "cell_type": "code",
   "execution_count": null,
   "metadata": {},
   "outputs": [],
   "source": [
    "# Breaking the datetime column into year and dayofyear.\n",
    "df[\"Year\"] = df[\"Date\"].dt.year\n",
    "df[\"dayofyear\"] = df[\"Date\"].dt.dayofyear\n",
    "\n",
    "# Adjusting dayofyear for leap years and removing Feb 29th dates data.\n",
    "df[\"dayofyear\"] = df.apply(\n",
    "    lambda row: (\n",
    "        row[\"dayofyear\"] - 1\n",
    "        if row[\"Date\"].is_leap_year and row[\"dayofyear\"] > 59\n",
    "        else row[\"dayofyear\"]\n",
    "    ),\n",
    "    axis=1,\n",
    ")\n",
    "\n",
    "df = df[~((df[\"Date\"].dt.month == 2) & (df[\"Date\"].dt.day == 29))]\n",
    "\n",
    "# Creating two year groups for data to make creation of pivot tables easier.\n",
    "df[\"YearGroup\"] = np.where(df[\"Year\"].between(2005, 2014), \"05-14\", \"15\")\n",
    "\n",
    "df.head()"
   ]
  },
  {
   "cell_type": "code",
   "execution_count": null,
   "metadata": {},
   "outputs": [],
   "source": [
    "# Creating pivot tables grouped by dayofyear values and across YearGroup and Elements (Min or Max) columns.\n",
    "pivot = df.pivot_table(\n",
    "    index=[\"dayofyear\"],\n",
    "    columns=[\"YearGroup\", \"Element\"],\n",
    "    values=\"Data_Value\",\n",
    "    aggfunc={\"Data_Value\": [\"min\", \"max\"]},\n",
    ").reset_index()\n",
    "\n",
    "# Renaming the columns to flatten out the pivot table and dropping columns that are not needed.\n",
    "pivot.columns = [\n",
    "    \"DayOfYear\",\n",
    "    \"05-14-max\",\n",
    "    \"TMIN_max\",\n",
    "    \"15-max\",\n",
    "    \"TMIN_max2\",\n",
    "    \"TMAX_min\",\n",
    "    \"05-14-min\",\n",
    "    \"TMAX_min2\",\n",
    "    \"15-min\",\n",
    "]\n",
    "pivot.drop(\n",
    "    labels=[\"TMIN_max\", \"TMAX_min\", \"TMIN_max2\", \"TMAX_min2\"], axis=1, inplace=True\n",
    ")\n",
    "pivot.head()"
   ]
  },
  {
   "cell_type": "markdown",
   "metadata": {
    "deletable": false,
    "editable": false,
    "nbgrader": {
     "cell_type": "markdown",
     "checksum": "0edac9c92f1b79eb9b21f302a3259c5e",
     "grade": false,
     "grade_id": "cell-d3a1a2647a47fe31",
     "locked": true,
     "schema_version": 3,
     "solution": false,
     "task": false
    }
   },
   "source": [
    "## Step 3\n",
    "Now that you have grouped the daily max and min temperatures for each day of the years 2005 through 2015, you can separate out the data for 2015. Then you can use the Pandas `groupby` function to find the max and min of the temperature data for each __day of the year__ for the 2005-2014 data.\n",
    "\n",
    "__hint: at the end of this step I had two DataFrames, one of maximum and the other of minimum values, which each had 365 observations in them. I also had another pair of similar DataFrames but only for the year 2015.__"
   ]
  },
  {
   "cell_type": "code",
   "execution_count": null,
   "metadata": {},
   "outputs": [],
   "source": [
    "# Creating tables for 2015 record values that fall above or below 2005-2014 range.\n",
    "min_15_record = pivot.loc[pivot[\"15-min\"] < pivot[\"05-14-min\"]].drop(columns=[\"15-max\", \"05-14-max\"])\n",
    "max_15_record = pivot.loc[pivot[\"15-max\"] > pivot[\"05-14-max\"]].drop(columns=[\"15-min\", \"05-14-min\"])"
   ]
  },
  {
   "cell_type": "markdown",
   "metadata": {
    "deletable": false,
    "editable": false,
    "nbgrader": {
     "cell_type": "markdown",
     "checksum": "d7de066a05b833f7ded9353ee2215ba8",
     "grade": false,
     "grade_id": "cell-25711f5fdbe49515",
     "locked": true,
     "schema_version": 3,
     "solution": false,
     "task": false
    }
   },
   "source": [
    "## Step 4\n",
    "Now it's time to plot! You need to explore matplotlib in order to plot line graphs of the min and max temperatures for the years 2005 through 2014 and to scatter plot __only__ the daily 2015 temperatures that exceeded those values."
   ]
  },
  {
   "cell_type": "code",
   "execution_count": null,
   "metadata": {},
   "outputs": [],
   "source": [
    "import matplotlib.pyplot as plt\n",
    "from matplotlib.ticker import MultipleLocator\n",
    "from calendar import month_abbr\n",
    "\n",
    "# Creating arbitrary middle of month days for plotting month values on the plot.\n",
    "# This is instead of plotting dayofyear values.\n",
    "month_mids = [pd.Timestamp(f\"2023-{month:02d}-15\").dayofyear for month in range(1, 13)]\n",
    "month_labels = [month_abbr[month] for month in range(1, 13)]\n",
    "\n",
    "# Creating a plot and saving the plt axis as an object for easier access to members.\n",
    "plt.figure()\n",
    "ax = plt.gca()\n",
    "\n",
    "# Plotting main line charts\n",
    "plt.plot(\n",
    "    pivot[\"DayOfYear\"],\n",
    "    pivot[\"05-14-min\"],\n",
    "    color=\"blue\",\n",
    "    label=\"Lowest temperature\",\n",
    ")\n",
    "plt.plot(\n",
    "    pivot[\"DayOfYear\"],\n",
    "    pivot[\"05-14-max\"],\n",
    "    color=\"red\",\n",
    "    label=\"Highest temperature\",\n",
    ")\n",
    "\n",
    "# Filling between the line charts.\n",
    "plt.fill_between(\n",
    "    pivot[\"DayOfYear\"],\n",
    "    pivot[\"05-14-min\"],\n",
    "    pivot[\"05-14-max\"],\n",
    "    facecolor=\"grey\",\n",
    "    alpha=0.3,\n",
    ")\n",
    "\n",
    "# Plotting the scatter plots for 2015 record values.\n",
    "plt.scatter(\n",
    "    min_15_record[\"DayOfYear\"],\n",
    "    min_15_record[\"15-min\"],\n",
    "    s=20,\n",
    "    color=\"black\",\n",
    "    label=\"2015 record\",\n",
    ")\n",
    "\n",
    "# Setting plot parameters.\n",
    "plt.ylim(min_15_record[\"15-min\"].min() - 10, pivot[\"05-14-max\"].max() + 10)\n",
    "plt.scatter(max_15_record[\"DayOfYear\"], max_15_record[\"15-max\"], s=20, color=\"black\")\n",
    "plt.xticks(ticks=month_mids, labels=month_labels) # We create custom x-axis values for months.\n",
    "ax.yaxis.set_major_locator(MultipleLocator(10))\n",
    "ax.yaxis.set_minor_locator(MultipleLocator(5))\n",
    "plt.legend()\n",
    "plt.title(\n",
    "    label=\"Ann-Arbor Record Lowest and Highest Temperatures for 2005-2014 Period and 2015 Records\"\n",
    ")\n",
    "plt.xlabel(xlabel=\"Month of Year\")\n",
    "plt.ylabel(ylabel=\"Temperature (°C)\")\n",
    "plt.grid(visible=True, axis=\"y\")\n",
    "\n",
    "# Removing the boxes from the graph.\n",
    "# You can use ax.get_children() to examine different children values that can be manipulated.\n",
    "for value in ax.spines.values():\n",
    "    value.set_visible(False)"
   ]
  }
 ],
 "metadata": {
  "coursera": {
   "schema_names": [
    "mooc_adswpy_v1_assignment2"
   ]
  },
  "kernelspec": {
   "display_name": "ds",
   "language": "python",
   "name": "python3"
  },
  "language_info": {
   "codemirror_mode": {
    "name": "ipython",
    "version": 3
   },
   "file_extension": ".py",
   "mimetype": "text/x-python",
   "name": "python",
   "nbconvert_exporter": "python",
   "pygments_lexer": "ipython3",
   "version": "3.11.10"
  }
 },
 "nbformat": 4,
 "nbformat_minor": 4
}
