{
 "cells": [
  {
   "attachments": {},
   "cell_type": "markdown",
   "metadata": {
    "deletable": false,
    "editable": false,
    "etc_identifier": "653a3605-5bda-4e1f-beef-04a0173d3f41",
    "nbgrader": {
     "cell_type": "markdown",
     "checksum": "60da2e57814a61cf6a81dd670bf35473",
     "grade": false,
     "grade_id": "cell-a6c4f74309fc2379",
     "locked": true,
     "schema_version": 3,
     "solution": false
    }
   },
   "source": [
    "# Assignment 4\n",
    "## Description\n",
    "In this assignment you must read in a file of metropolitan regions and associated sports teams from [assets/wikipedia_data.html](assets/wikipedia_data.html) and answer some questions about each metropolitan region. Each of these regions may have one or more teams from the \"Big 4\": NFL (football, in [assets/nfl.csv](assets/nfl.csv)), MLB (baseball, in [assets/mlb.csv](assets/mlb.csv)), NBA (basketball, in [assets/nba.csv](assets/nba.csv) or NHL (hockey, in [assets/nhl.csv](assets/nhl.csv)). Please keep in mind that all questions are from the perspective of the metropolitan region, and that this file is the \"source of authority\" for the location of a given sports team. Thus teams which are commonly known by a different area (e.g. \"Oakland Raiders\") need to be mapped into the metropolitan region given (e.g. San Francisco Bay Area). This will require some human data understanding outside of the data you've been given (e.g. you will have to hand-code some names, and might need to google to find out where teams are)!\n",
    "\n",
    "For each sport I would like you to answer the question: **what is the win/loss ratio's correlation with the population of the city it is in?** Win/Loss ratio refers to the number of wins over the number of wins plus the number of losses. Remember that to calculate the correlation with [`pearsonr`](https://docs.scipy.org/doc/scipy/reference/generated/scipy.stats.pearsonr.html), so you are going to send in two ordered lists of values, the populations from the wikipedia_data.html file and the win/loss ratio for a given sport in the same order. Average the win/loss ratios for those cities which have multiple teams of a single sport. Each sport is worth an equal amount in this assignment (20%\\*4=80%) of the grade for this assignment. You should only use data **from year 2018** for your analysis -- this is important!\n",
    "\n",
    "## Notes\n",
    "\n",
    "1. Do not include data about the MLS or CFL in any of the work you are doing, we're only interested in the Big 4 in this assignment.\n",
    "2. I highly suggest that you first tackle the four correlation questions in order, as they are all similar and worth the majority of grades for this assignment. This is by design!\n",
    "3. It's fair game to talk with peers about high level strategy as well as the relationship between metropolitan areas and sports teams. However, do not post code solving aspects of the assignment (including such as dictionaries mapping areas to teams, or regexes which will clean up names).\n",
    "4. There may be more teams than the assert statements test, remember to collapse multiple teams in one city into a single value!\n",
    "\n",
    "As this assignment utilizes global variables in the skeleton code, to avoid having errors in your code you can either:\n",
    "\n",
    "1. You can place all of your code within the function definitions for all of the questions (other than import statements).\n",
    "2. You can create copies of all the global variables with the copy() method and proceed as usual."
   ]
  },
  {
   "attachments": {},
   "cell_type": "markdown",
   "metadata": {
    "deletable": false,
    "editable": false,
    "nbgrader": {
     "cell_type": "markdown",
     "checksum": "369ff9ecf0ee04640574205cbc697f94",
     "grade": false,
     "grade_id": "cell-712b2b5da63d4505",
     "locked": true,
     "schema_version": 3,
     "solution": false
    }
   },
   "source": [
    "## Question 1\n",
    "For this question, calculate the win/loss ratio's correlation with the population of the city it is in for the **NHL** using **2018** data."
   ]
  },
  {
   "cell_type": "code",
   "execution_count": 2,
   "metadata": {
    "deletable": false,
    "nbgrader": {
     "cell_type": "code",
     "checksum": "1cac4803b02502929f5b1612d48db2b5",
     "grade": false,
     "grade_id": "cell-69b16e4386e58030",
     "locked": false,
     "schema_version": 3,
     "solution": true
    }
   },
   "outputs": [
    {
     "data": {
      "text/plain": [
       "0.012486162921209881"
      ]
     },
     "execution_count": 2,
     "metadata": {},
     "output_type": "execute_result"
    }
   ],
   "source": [
    "import pandas as pd\n",
    "import numpy as np\n",
    "import scipy.stats as stats\n",
    "\n",
    "\n",
    "def import_cities_data():\n",
    "    cities = pd.read_html(\"assets/wikipedia_data.html\")[1]\n",
    "    cities = cities.iloc[:-1, [0, 3, 5, 6, 7, 8]]\n",
    "    cities[\"city\"] = cities[\"Metropolitan area\"].str.replace(\"–.*\", \"\", regex=True)\n",
    "    cities[\"2016 population\"] = cities[\"Population (2016 est.)[8]\"].astype(int)\n",
    "    cities.drop(\n",
    "        columns=[\"Metropolitan area\", \"Population (2016 est.)[8]\"], inplace=True\n",
    "    )\n",
    "    for column in [\"NHL\", \"NBA\", \"MLB\", \"NFL\"]:\n",
    "        cities[column] = cities[column].str.replace(\"\\[.*\\]\", \"\", regex=True)\n",
    "    cities.replace(to_replace=[\"—\", \"\"], value=np.nan, inplace=True)\n",
    "    new_york_rows = {\n",
    "        \"city\": [\"New York City\", \"New York City\", \"New York City\"],\n",
    "        \"NFL\": [\"Giants\", \"Jets\", np.nan],\n",
    "        \"MLB\": [\"Yankees\", \"Mets\", np.nan],\n",
    "        \"NBA\": [\"Knicks\", \"Nets\", np.nan],\n",
    "        \"NHL\": [\"Rangers\", \"Islanders\", \"Devils\"],\n",
    "        \"2016 population\": [20153634, 20153634, 20153634],\n",
    "    }\n",
    "    los_angeles_rows = {\n",
    "        \"city\": [\"Los Angeles\", \"Los Angeles\"],\n",
    "        \"NFL\": [\"Rams\", \"Chargers\"],\n",
    "        \"MLB\": [\"Dodgers\", \"Angels\"],\n",
    "        \"NBA\": [\"Lakers\", \"Clippers\"],\n",
    "        \"NHL\": [\"Kings\", \"Ducks\"],\n",
    "        \"2016 population\": [13310447, 13310447],\n",
    "    }\n",
    "    sf_rows = {\n",
    "        \"city\": [\"San Francisco Bay Area\", \"San Francisco Bay Area\"],\n",
    "        \"NFL\": [\"49ers\", \"Raiders\"],\n",
    "        \"MLB\": [\"Giants\", \"Athletics\"],\n",
    "        \"NBA\": [\"Warriors\", np.nan],\n",
    "        \"NHL\": [\"Sharks\", np.nan],\n",
    "        \"2016 population\": [6657982, 6657982],\n",
    "    }\n",
    "    chicago_rows = {\n",
    "        \"city\": [\"Chicago\", \"Chicago\"],\n",
    "        \"NFL\": [\"Bears\", np.nan],\n",
    "        \"MLB\": [\"Cubs\", \"White Sox\"],\n",
    "        \"NBA\": [\"Bulls\", np.nan],\n",
    "        \"NHL\": [\"Blackhawks\", np.nan],\n",
    "        \"2016 population\": [9512999, 9512999],\n",
    "    }\n",
    "    for dict in [new_york_rows, los_angeles_rows, sf_rows, chicago_rows]:\n",
    "        new_df = pd.DataFrame(dict)\n",
    "        cities = cities[cities[\"city\"] != dict[\"city\"][0]]\n",
    "        cities = pd.concat([cities, new_df])\n",
    "    return cities\n",
    "\n",
    "\n",
    "def clean_team_name(team_name, city_df):\n",
    "    team_name = team_name.lower().strip()\n",
    "    cities_list = [city.lower().strip() for city in city_df[\"city\"]]\n",
    "    cities_list.extend(\n",
    "        [\n",
    "            \"florida\",\n",
    "            \"tampa bay\",\n",
    "            \"vegas\",\n",
    "            \"washington\",\n",
    "            \"carolina\",\n",
    "            \"minnesota\",\n",
    "            \"colorado\",\n",
    "            \"arizona\",\n",
    "            \"san jose\",\n",
    "            \"anaheim\",\n",
    "            \"new jersey\",\n",
    "            \"utah\",\n",
    "            \"indiana\",\n",
    "            \"golden state\",\n",
    "            \"city\",\n",
    "            \"new york\",\n",
    "            \"brooklyn\",\n",
    "            \"oakland\",\n",
    "            \"texas\",\n",
    "            \"san francisco\",\n",
    "            \"new england\",\n",
    "            \"tennessee\",\n",
    "        ]\n",
    "    )\n",
    "    for city in cities_list:\n",
    "        if city in team_name:\n",
    "            team_name = team_name.replace(city, \"\").strip()\n",
    "    return team_name.title()\n",
    "\n",
    "\n",
    "def join_nhl_df(nhl_df, cities_df):\n",
    "    nhl_df = nhl_df[nhl_df[\"year\"] == 2018]\n",
    "    nhl_df.loc[:, \"team\"] = nhl_df[\"team\"].str.replace(\"\\*\", \"\", regex=True)\n",
    "    nhl_df.loc[:, \"team\"] = nhl_df[\"team\"].apply(clean_team_name, args=(cities_df,))\n",
    "    joined = pd.merge(\n",
    "        left=nhl_df[[\"team\", \"year\", \"W\", \"L\"]],\n",
    "        right=cities_df[[\"city\", \"NHL\", \"2016 population\"]],\n",
    "        how=\"left\",\n",
    "        left_on=\"team\",\n",
    "        right_on=\"NHL\",\n",
    "    )\n",
    "    joined.dropna(subset=\"city\", inplace=True)\n",
    "    for column in [\"W\", \"L\"]:\n",
    "        joined[column] = joined[column].astype(float)\n",
    "    joined[\"win_loss_ratio\"] = joined.apply(\n",
    "        lambda x: x[\"W\"] / (x[\"W\"] + x[\"L\"]), axis=\"columns\"\n",
    "    )\n",
    "    return joined\n",
    "\n",
    "\n",
    "def nhl_correlation():\n",
    "    # YOUR CODE HERE\n",
    "    cities = import_cities_data()\n",
    "    nhl_df = pd.read_csv(\"assets/nhl.csv\")\n",
    "    joined = join_nhl_df(nhl_df, cities)\n",
    "    wl = list(joined.groupby(\"city\").agg({\"win_loss_ratio\": \"mean\"})[\"win_loss_ratio\"])\n",
    "    pop = list(\n",
    "        joined.groupby(\"city\").agg({\"2016 population\": \"mean\"})[\"2016 population\"]\n",
    "    )\n",
    "    # return stats.pearsonr(population_by_region, win_loss_by_region)\n",
    "    r, p_value = stats.pearsonr(wl, pop)\n",
    "    return r\n",
    "    raise NotImplementedError()\n",
    "\n",
    "\n",
    "nhl_correlation()"
   ]
  },
  {
   "attachments": {},
   "cell_type": "markdown",
   "metadata": {
    "deletable": false,
    "editable": false,
    "nbgrader": {
     "cell_type": "markdown",
     "checksum": "988912cae4968d81473f46d783e79c16",
     "grade": false,
     "grade_id": "cell-cb964e690298b71d",
     "locked": true,
     "schema_version": 3,
     "solution": false
    }
   },
   "source": [
    "## Question 2\n",
    "For this question, calculate the win/loss ratio's correlation with the population of the city it is in for the **NBA** using **2018** data."
   ]
  },
  {
   "cell_type": "code",
   "execution_count": 23,
   "metadata": {
    "deletable": false,
    "nbgrader": {
     "cell_type": "code",
     "checksum": "9394222aafc8ccab0a228098ba0d6010",
     "grade": false,
     "grade_id": "cell-5a5f21279e3d3572",
     "locked": false,
     "schema_version": 3,
     "solution": true
    }
   },
   "outputs": [
    {
     "data": {
      "text/plain": [
       "-0.17657160252844617"
      ]
     },
     "execution_count": 23,
     "metadata": {},
     "output_type": "execute_result"
    }
   ],
   "source": [
    "import pandas as pd\n",
    "import numpy as np\n",
    "import scipy.stats as stats\n",
    "\n",
    "\n",
    "def join_nba_df(nba_df, cities_df):\n",
    "    nba_df = nba_df.loc[nba_df[\"year\"] == 2018]\n",
    "    nba_df.loc[:, \"team\"] = (\n",
    "        nba_df[\"team\"].str.strip().replace(r\"\\b\\*?\\s\\(.*\\)$\", \"\", regex=True)\n",
    "    )\n",
    "    nba_df.loc[:, \"team\"] = nba_df[\"team\"].apply(clean_team_name, args=(cities_df,))\n",
    "    nba_df.loc[nba_df[\"team\"] == \"76Ers\", \"team\"] = \"76ers\"\n",
    "    joined = pd.merge(\n",
    "        left=nba_df[[\"team\", \"year\", \"W\", \"L\", \"W/L%\"]],\n",
    "        right=cities_df[[\"city\", \"NBA\", \"2016 population\"]],\n",
    "        how=\"left\",\n",
    "        left_on=\"team\",\n",
    "        right_on=\"NBA\",\n",
    "    )\n",
    "    for column in [\"W\", \"L\", \"W/L%\"]:\n",
    "        joined[column] = joined[column].astype(float)\n",
    "    joined[\"win_loss_ratio\"] = joined.apply(\n",
    "        lambda x: x[\"W\"] / (x[\"W\"] + x[\"L\"]), axis=\"columns\"\n",
    "    )\n",
    "    return joined\n",
    "\n",
    "\n",
    "def nba_correlation():\n",
    "    # YOUR CODE HERE\n",
    "    cities = import_cities_data()\n",
    "    nba_df = pd.read_csv(\"assets/nba.csv\")\n",
    "    joined = join_nba_df(nba_df, cities)\n",
    "    grouped = joined.groupby(\"city\")\n",
    "    wl = list(grouped.agg({\"win_loss_ratio\": \"mean\"})[\"win_loss_ratio\"])\n",
    "    # wl = list(grouped.agg({\"W/L%\": \"mean\"})[\"W/L%\"])\n",
    "    pop = list(grouped.agg({\"2016 population\": \"mean\"})[\"2016 population\"])\n",
    "    r, p_value = stats.pearsonr(wl, pop)\n",
    "    return r\n",
    "    raise NotImplementedError()\n",
    "\n",
    "\n",
    "nba_correlation()"
   ]
  },
  {
   "attachments": {},
   "cell_type": "markdown",
   "metadata": {
    "deletable": false,
    "editable": false,
    "nbgrader": {
     "cell_type": "markdown",
     "checksum": "1a1a5809f675ca033086422007cd73bd",
     "grade": false,
     "grade_id": "cell-96e15e4335df78f4",
     "locked": true,
     "schema_version": 3,
     "solution": false
    }
   },
   "source": [
    "## Question 3\n",
    "For this question, calculate the win/loss ratio's correlation with the population of the city it is in for the **MLB** using **2018** data."
   ]
  },
  {
   "cell_type": "code",
   "execution_count": 4,
   "metadata": {
    "deletable": false,
    "nbgrader": {
     "cell_type": "code",
     "checksum": "27e8c0da6c9fa0dffc10488314335b6c",
     "grade": false,
     "grade_id": "cell-33b00fc3f3467b0c",
     "locked": false,
     "schema_version": 3,
     "solution": true
    }
   },
   "outputs": [
    {
     "data": {
      "text/plain": [
       "0.15027698302669307"
      ]
     },
     "execution_count": 4,
     "metadata": {},
     "output_type": "execute_result"
    }
   ],
   "source": [
    "import pandas as pd\n",
    "import numpy as np\n",
    "import scipy.stats as stats\n",
    "\n",
    "\n",
    "def join_mlb_df(mlb_df, cities_df):\n",
    "    mlb_df = mlb_df.loc[mlb_df[\"year\"] == 2018]\n",
    "    mlb_df.loc[:, \"team\"] = mlb_df[\"team\"].apply(clean_team_name, args=(cities_df,))\n",
    "    joined = pd.merge(\n",
    "        left=mlb_df[[\"team\", \"year\", \"W\", \"L\", \"W-L%\"]],\n",
    "        right=cities_df[[\"city\", \"2016 population\", \"MLB\"]],\n",
    "        how=\"left\",\n",
    "        left_on=\"team\",\n",
    "        right_on=\"MLB\",\n",
    "    )\n",
    "    for column in [\"W\", \"L\"]:\n",
    "        joined[column] = joined[column].astype(float)\n",
    "\n",
    "    joined[\"win_loss_ratio\"] = joined.apply(\n",
    "        lambda x: x[\"W\"] / (x[\"W\"] + x[\"L\"]), axis=\"columns\"\n",
    "    )\n",
    "    return joined\n",
    "\n",
    "\n",
    "def mlb_correlation():\n",
    "    # YOUR CODE HERE\n",
    "    cities = import_cities_data()\n",
    "    mlb_df = pd.read_csv(\"assets/mlb.csv\")\n",
    "    joined = join_mlb_df(mlb_df, cities)\n",
    "    grouped = joined.groupby(\"city\")\n",
    "    wl = list(grouped.agg({\"win_loss_ratio\": \"mean\"})[\"win_loss_ratio\"])\n",
    "    pop = list(grouped.agg({\"2016 population\": \"mean\"})[\"2016 population\"])\n",
    "    r, p_value = stats.pearsonr(wl, pop)\n",
    "    return r\n",
    "    raise NotImplementedError()\n",
    "\n",
    "mlb_correlation()"
   ]
  },
  {
   "attachments": {},
   "cell_type": "markdown",
   "metadata": {
    "deletable": false,
    "editable": false,
    "nbgrader": {
     "cell_type": "markdown",
     "checksum": "6977a6da9ed6d8b7a0b7e37bbeda709b",
     "grade": false,
     "grade_id": "cell-793df6c04dfb126e",
     "locked": true,
     "schema_version": 3,
     "solution": false
    }
   },
   "source": [
    "## Question 4\n",
    "For this question, calculate the win/loss ratio's correlation with the population of the city it is in for the **NFL** using **2018** data."
   ]
  },
  {
   "cell_type": "code",
   "execution_count": 5,
   "metadata": {
    "deletable": false,
    "nbgrader": {
     "cell_type": "code",
     "checksum": "c4914ad1e119278ec2bd567c52640b66",
     "grade": false,
     "grade_id": "cell-8ccebc209aeec8d9",
     "locked": false,
     "schema_version": 3,
     "solution": true
    }
   },
   "outputs": [
    {
     "data": {
      "text/plain": [
       "0.004922112149349434"
      ]
     },
     "execution_count": 5,
     "metadata": {},
     "output_type": "execute_result"
    }
   ],
   "source": [
    "import pandas as pd\n",
    "import numpy as np\n",
    "import scipy.stats as stats\n",
    "\n",
    "\n",
    "def join_nfl_data(nfl_df, cities_df):\n",
    "    nfl_df = nfl_df.loc[nfl_df[\"year\"] == 2018]\n",
    "    nfl_df.loc[:, \"team\"] = (\n",
    "        nfl_df[\"team\"].str.strip().replace(r\"[\\*\\+]\", \"\", regex=True)\n",
    "    )\n",
    "    nfl_df.loc[:, \"team\"] = nfl_df[\"team\"].apply(clean_team_name, args=(cities_df,))\n",
    "    nfl_df.loc[nfl_df[\"team\"] == \"49Ers\", \"team\"] = \"49ers\"\n",
    "    joined = pd.merge(\n",
    "        left=nfl_df[[\"team\", \"year\", \"W\", \"L\", \"W-L%\"]],\n",
    "        right=cities_df[[\"2016 population\", \"city\", \"NFL\"]],\n",
    "        how=\"left\",\n",
    "        left_on=\"team\",\n",
    "        right_on=\"NFL\",\n",
    "    )\n",
    "    for column in [\"W\", \"L\", \"W-L%\"]:\n",
    "        joined[column] = pd.to_numeric(joined[column], errors=\"coerce\")\n",
    "\n",
    "    joined[\"win_loss_ratio\"] = joined.apply(\n",
    "        lambda x: x[\"W\"] / (x[\"W\"] + x[\"L\"]), axis=\"columns\"\n",
    "    )\n",
    "    joined.dropna(subset=\"city\", inplace=True)\n",
    "    return joined\n",
    "\n",
    "\n",
    "def nfl_correlation():\n",
    "    # YOUR CODE HERE\n",
    "    cities = import_cities_data()\n",
    "    nfl_df = pd.read_csv(\"assets/nfl.csv\")\n",
    "    joined = join_nfl_data(nfl_df, cities)\n",
    "    grouped = joined.groupby(\"city\")\n",
    "    wl = list(grouped.agg({\"win_loss_ratio\": \"mean\"})[\"win_loss_ratio\"])\n",
    "    pop = list(grouped.agg({\"2016 population\": \"mean\"})[\"2016 population\"])\n",
    "    r, p_value = stats.pearsonr(wl, pop)\n",
    "    return r\n",
    "    raise NotImplementedError()\n",
    "\n",
    "\n",
    "nfl_correlation()"
   ]
  },
  {
   "attachments": {},
   "cell_type": "markdown",
   "metadata": {
    "deletable": false,
    "editable": false,
    "nbgrader": {
     "cell_type": "markdown",
     "checksum": "b02d5cd3273f561e4ae939bb2a41740c",
     "grade": false,
     "grade_id": "cell-97b49d8639e908c4",
     "locked": true,
     "schema_version": 3,
     "solution": false
    }
   },
   "source": [
    "## Question 5\n",
    "In this question I would like you to explore the hypothesis that **given that an area has two sports teams in different sports, those teams will perform the same within their respective sports**. How I would like to see this explored is with a series of paired t-tests (so use [`ttest_rel`](https://docs.scipy.org/doc/scipy/reference/generated/scipy.stats.ttest_rel.html)) between all pairs of sports. Are there any sports where we can reject the null hypothesis? Again, average values where a sport has multiple teams in one region. Remember, you will only be including, for each sport, cities which have teams engaged in that sport, drop others as appropriate. This question is worth 20% of the grade for this assignment."
   ]
  },
  {
   "cell_type": "code",
   "execution_count": 51,
   "metadata": {
    "deletable": false,
    "nbgrader": {
     "cell_type": "code",
     "checksum": "6d78c961eb66f8d8c81f06d33ae8f393",
     "grade": false,
     "grade_id": "cell-92f25f44b8d1179f",
     "locked": false,
     "schema_version": 3,
     "solution": true
    }
   },
   "outputs": [
    {
     "data": {
      "text/html": [
       "<div>\n",
       "<style scoped>\n",
       "    .dataframe tbody tr th:only-of-type {\n",
       "        vertical-align: middle;\n",
       "    }\n",
       "\n",
       "    .dataframe tbody tr th {\n",
       "        vertical-align: top;\n",
       "    }\n",
       "\n",
       "    .dataframe thead th {\n",
       "        text-align: right;\n",
       "    }\n",
       "</style>\n",
       "<table border=\"1\" class=\"dataframe\">\n",
       "  <thead>\n",
       "    <tr style=\"text-align: right;\">\n",
       "      <th></th>\n",
       "      <th>MLB</th>\n",
       "      <th>NHL</th>\n",
       "      <th>NBA</th>\n",
       "      <th>NFL</th>\n",
       "    </tr>\n",
       "  </thead>\n",
       "  <tbody>\n",
       "    <tr>\n",
       "      <th>MLB</th>\n",
       "      <td>NaN</td>\n",
       "      <td>0.000708</td>\n",
       "      <td>0.950540</td>\n",
       "      <td>0.802069</td>\n",
       "    </tr>\n",
       "    <tr>\n",
       "      <th>NHL</th>\n",
       "      <td>0.000708</td>\n",
       "      <td>NaN</td>\n",
       "      <td>0.022297</td>\n",
       "      <td>0.030883</td>\n",
       "    </tr>\n",
       "    <tr>\n",
       "      <th>NBA</th>\n",
       "      <td>0.950540</td>\n",
       "      <td>0.022297</td>\n",
       "      <td>NaN</td>\n",
       "      <td>0.941792</td>\n",
       "    </tr>\n",
       "    <tr>\n",
       "      <th>NFL</th>\n",
       "      <td>0.802069</td>\n",
       "      <td>0.030883</td>\n",
       "      <td>0.941792</td>\n",
       "      <td>NaN</td>\n",
       "    </tr>\n",
       "  </tbody>\n",
       "</table>\n",
       "</div>"
      ],
      "text/plain": [
       "          MLB       NHL       NBA       NFL\n",
       "MLB       NaN  0.000708  0.950540  0.802069\n",
       "NHL  0.000708       NaN  0.022297  0.030883\n",
       "NBA  0.950540  0.022297       NaN  0.941792\n",
       "NFL  0.802069  0.030883  0.941792       NaN"
      ]
     },
     "execution_count": 51,
     "metadata": {},
     "output_type": "execute_result"
    }
   ],
   "source": [
    "import pandas as pd\n",
    "import numpy as np\n",
    "import scipy.stats as stats\n",
    "\n",
    "\n",
    "def sports_team_performance():\n",
    "    # YOUR CODE HERE\n",
    "    mlb_df = pd.read_csv(\"assets/mlb.csv\")\n",
    "    nhl_df = pd.read_csv(\"assets/nhl.csv\")\n",
    "    nba_df = pd.read_csv(\"assets/nba.csv\")\n",
    "    nfl_df = pd.read_csv(\"assets/nfl.csv\")\n",
    "    cities = import_cities_data()\n",
    "    joined_mlb = join_mlb_df(mlb_df, cities)\n",
    "    joined_nhl = join_nhl_df(nhl_df, cities)\n",
    "    joined_nba = join_nba_df(nba_df, cities)\n",
    "    joined_nfl = join_nfl_data(nfl_df, cities)\n",
    "    all_joined = {\n",
    "        \"MLB\": joined_mlb,\n",
    "        \"NHL\": joined_nhl,\n",
    "        \"NBA\": joined_nba,\n",
    "        \"NFL\": joined_nfl,\n",
    "    }\n",
    "    p_values = pd.DataFrame(\n",
    "        {k: np.nan for k in all_joined.keys()}, index=all_joined.keys()\n",
    "    )\n",
    "    for sport_1, df_1 in all_joined.items():\n",
    "        for sport_2, df_2 in all_joined.items():\n",
    "            if sport_1 != sport_2:\n",
    "                joined_df = pd.merge(\n",
    "                    df_1,\n",
    "                    df_2,\n",
    "                    how=\"inner\",\n",
    "                    on=\"city\",\n",
    "                    suffixes=(f\"_{sport_1}\", f\"_{sport_2}\"),\n",
    "                )\n",
    "                grouped_df = joined_df.groupby(\"city\")\n",
    "                aggregated = grouped_df[\n",
    "                    [f\"win_loss_ratio_{sport_1}\", f\"win_loss_ratio_{sport_2}\"]\n",
    "                ].agg(\"mean\")\n",
    "                if len(aggregated) > 1:\n",
    "                    t, p = stats.ttest_rel(\n",
    "                        aggregated[f\"win_loss_ratio_{sport_1}\"],\n",
    "                        aggregated[f\"win_loss_ratio_{sport_2}\"],\n",
    "                    )\n",
    "                    p_values.loc[sport_1, sport_2] = p\n",
    "                # if sport_1 == \"NBA\" and sport_2 == \"NFL\":\n",
    "                #     return aggregated\n",
    "    # Note: p_values is a full dataframe, so df.loc[\"NFL\",\"NBA\"] should be the same as df.loc[\"NBA\",\"NFL\"] and\n",
    "    # df.loc[\"NFL\",\"NFL\"] should return np.nan\n",
    "\n",
    "    assert (\n",
    "        abs(p_values.loc[\"NBA\", \"NHL\"] - 0.02) <= 1e-2\n",
    "    ), \"The NBA-NHL p-value should be around 0.02\"\n",
    "    assert (\n",
    "        abs(p_values.loc[\"MLB\", \"NFL\"] - 0.80) <= 1e-2\n",
    "    ), \"The MLB-NFL p-value should be around 0.80\"\n",
    "    return p_values\n",
    "    raise NotImplementedError()\n",
    "\n",
    "\n",
    "sports_team_performance()"
   ]
  }
 ],
 "metadata": {
  "kernelspec": {
   "display_name": "Python 3 (ipykernel)",
   "language": "python",
   "name": "python3"
  },
  "language_info": {
   "codemirror_mode": {
    "name": "ipython",
    "version": 3
   },
   "file_extension": ".py",
   "mimetype": "text/x-python",
   "name": "python",
   "nbconvert_exporter": "python",
   "pygments_lexer": "ipython3",
   "version": "3.10.14"
  }
 },
 "nbformat": 4,
 "nbformat_minor": 4
}
