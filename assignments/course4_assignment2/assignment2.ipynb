{
 "cells": [
  {
   "cell_type": "markdown",
   "metadata": {
    "deletable": false,
    "editable": false,
    "nbgrader": {
     "cell_type": "markdown",
     "checksum": "042ddd35e206e7e1391c875e9a6ed367",
     "grade": false,
     "grade_id": "cell-c1591794d1fd86d3",
     "locked": true,
     "schema_version": 3,
     "solution": false,
     "task": false
    }
   },
   "source": [
    "# Assignment 2 - Introduction to NLTK\n",
    "\n",
    "In part 1 of this assignment you will use nltk to explore the <a href='http://www.cs.cmu.edu/~ark/personas/'>CMU Movie Summary Corpus</a>. All data is released under a <a href='https://creativecommons.org/licenses/by-sa/3.0/us/legalcode'>Creative Commons Attribution-ShareAlike License</a>. Then in part 2 you will create a spelling recommender function that uses nltk to find words similar to the misspelling. "
   ]
  },
  {
   "cell_type": "markdown",
   "metadata": {
    "deletable": false,
    "editable": false,
    "nbgrader": {
     "cell_type": "markdown",
     "checksum": "3aaa75831c5da066cadbe61915e4ac73",
     "grade": false,
     "grade_id": "cell-3d80a2d0f0db2240",
     "locked": true,
     "schema_version": 3,
     "solution": false,
     "task": false
    }
   },
   "source": [
    "## Part 1 - Analyzing Plots Summary Text"
   ]
  },
  {
   "cell_type": "code",
   "execution_count": null,
   "metadata": {
    "deletable": false,
    "editable": false,
    "nbgrader": {
     "cell_type": "code",
     "checksum": "ba66628bfe1eeef83f2c719a13c75a0e",
     "grade": false,
     "grade_id": "cell-e90899706f77f111",
     "locked": true,
     "schema_version": 3,
     "solution": false,
     "task": false
    }
   },
   "outputs": [],
   "source": [
    "import nltk\n",
    "import pandas as pd\n",
    "import numpy as np\n",
    "\n",
    "nltk.data.path.append(\"assets/\")\n",
    "\n",
    "# If you would like to work with the raw text you can use 'plots_raw'\n",
    "with open('assets/plots.txt', 'rt', encoding=\"utf8\") as f:\n",
    "    plots_raw = f.read()\n",
    "\n",
    "# If you would like to work with the plot summaries in nltk.Text format you can use 'text1'.\n",
    "plots_tokens = nltk.word_tokenize(plots_raw)\n",
    "text1 = nltk.Text(plots_tokens)"
   ]
  },
  {
   "cell_type": "markdown",
   "metadata": {
    "deletable": false,
    "editable": false,
    "nbgrader": {
     "cell_type": "markdown",
     "checksum": "79da98b604c58196f7ab060d37b80738",
     "grade": false,
     "grade_id": "cell-1b05eeb0d5ba2354",
     "locked": true,
     "schema_version": 3,
     "solution": false,
     "task": false
    }
   },
   "source": [
    "### Example 1\n",
    "\n",
    "How many tokens (words and punctuation symbols) are in text1?\n",
    "\n",
    "*This function should return an integer.*"
   ]
  },
  {
   "cell_type": "code",
   "execution_count": null,
   "metadata": {
    "deletable": false,
    "editable": false,
    "nbgrader": {
     "cell_type": "code",
     "checksum": "69df2d758fcc798f64ce17b1fdd977e3",
     "grade": false,
     "grade_id": "cell-1ba7b4619cb7493e",
     "locked": true,
     "schema_version": 3,
     "solution": false,
     "task": false
    }
   },
   "outputs": [],
   "source": [
    "def example_one():\n",
    "    \n",
    "    return len(nltk.word_tokenize(plots_raw)) # or alternatively len(text1)\n",
    "\n",
    "example_one()"
   ]
  },
  {
   "cell_type": "markdown",
   "metadata": {
    "deletable": false,
    "editable": false,
    "nbgrader": {
     "cell_type": "markdown",
     "checksum": "bb0e377d6239813d9388dbfeacae633e",
     "grade": false,
     "grade_id": "cell-a98e3f30e25ba849",
     "locked": true,
     "schema_version": 3,
     "solution": false,
     "task": false
    }
   },
   "source": [
    "### Example 2\n",
    "\n",
    "How many unique tokens (unique words and punctuation) does text1 have?\n",
    "\n",
    "*This function should return an integer.*"
   ]
  },
  {
   "cell_type": "code",
   "execution_count": null,
   "metadata": {
    "deletable": false,
    "editable": false,
    "nbgrader": {
     "cell_type": "code",
     "checksum": "bc467f7cae3620b83a6ba7dfb0cf821e",
     "grade": false,
     "grade_id": "cell-7d9049c605f475c0",
     "locked": true,
     "schema_version": 3,
     "solution": false,
     "task": false
    }
   },
   "outputs": [],
   "source": [
    "def example_two():\n",
    "    \n",
    "    return len(set(nltk.word_tokenize(plots_raw))) # or alternatively len(set(text1))\n",
    "\n",
    "example_two()"
   ]
  },
  {
   "cell_type": "markdown",
   "metadata": {
    "deletable": false,
    "editable": false,
    "nbgrader": {
     "cell_type": "markdown",
     "checksum": "4b42347544bd4ad5a4351f8664477944",
     "grade": false,
     "grade_id": "cell-e718058d7a91011b",
     "locked": true,
     "schema_version": 3,
     "solution": false,
     "task": false
    }
   },
   "source": [
    "### Example 3\n",
    "\n",
    "After lemmatizing the verbs, how many unique tokens does text1 have?\n",
    "\n",
    "*This function should return an integer.*"
   ]
  },
  {
   "cell_type": "code",
   "execution_count": null,
   "metadata": {
    "deletable": false,
    "editable": false,
    "nbgrader": {
     "cell_type": "code",
     "checksum": "803b60144a4be3736540c0d8d36ad560",
     "grade": false,
     "grade_id": "cell-2f40f5a1c59b5994",
     "locked": true,
     "schema_version": 3,
     "solution": false,
     "task": false
    }
   },
   "outputs": [],
   "source": [
    "from nltk.stem import WordNetLemmatizer\n",
    "\n",
    "def example_three():\n",
    "\n",
    "    lemmatizer = WordNetLemmatizer()\n",
    "    lemmatized = [lemmatizer.lemmatize(w, \"v\") for w in text1]\n",
    "\n",
    "    return len(set(lemmatized))\n",
    "\n",
    "example_three()\n"
   ]
  },
  {
   "cell_type": "markdown",
   "metadata": {
    "deletable": false,
    "editable": false,
    "nbgrader": {
     "cell_type": "markdown",
     "checksum": "c35433373631a4b873cbc1b9be20dbb0",
     "grade": false,
     "grade_id": "cell-17b1215308416fc7",
     "locked": true,
     "schema_version": 3,
     "solution": false,
     "task": false
    }
   },
   "source": [
    "### Question 1\n",
    "\n",
    "What is the lexical diversity of the given text input? (i.e. ratio of unique tokens to the total number of tokens)\n",
    "\n",
    "*This function should return a float.*"
   ]
  },
  {
   "cell_type": "code",
   "execution_count": null,
   "metadata": {
    "deletable": false,
    "nbgrader": {
     "cell_type": "code",
     "checksum": "a8d36786c19fc59c793052acd5399b32",
     "grade": false,
     "grade_id": "cell-1ffaa79138a71fb9",
     "locked": false,
     "schema_version": 3,
     "solution": true,
     "task": false
    }
   },
   "outputs": [],
   "source": [
    "def answer_one():\n",
    "\n",
    "    tokens = nltk.word_tokenize(plots_raw)\n",
    "    n_total_tok = len(tokens)\n",
    "    n_unique_tok = len(set(tokens))\n",
    "    return n_unique_tok / n_total_tok\n",
    "\n",
    "answer_one()"
   ]
  },
  {
   "cell_type": "markdown",
   "metadata": {
    "deletable": false,
    "editable": false,
    "nbgrader": {
     "cell_type": "markdown",
     "checksum": "40f67e855292d55876456d71e04ac9ad",
     "grade": false,
     "grade_id": "cell-58eedbdc1473445b",
     "locked": true,
     "schema_version": 3,
     "solution": false,
     "task": false
    }
   },
   "source": [
    "### Question 2\n",
    "\n",
    "What percentage of tokens is 'love'or 'Love'?\n",
    "\n",
    "*This function should return a float.*"
   ]
  },
  {
   "cell_type": "code",
   "execution_count": null,
   "metadata": {
    "deletable": false,
    "nbgrader": {
     "cell_type": "code",
     "checksum": "2496b2469c600cb15fb4eaab26d122cf",
     "grade": false,
     "grade_id": "cell-f93ee77c9ff6ba52",
     "locked": false,
     "schema_version": 3,
     "solution": true,
     "task": false
    }
   },
   "outputs": [],
   "source": [
    "def answer_two():\n",
    "    lower_toks = nltk.word_tokenize(plots_raw.lower())\n",
    "    loves = [w for w in lower_toks if w == \"love\"]\n",
    "    \n",
    "    return len(loves) / len(lower_toks)\n",
    "\n",
    "answer_two()"
   ]
  },
  {
   "cell_type": "markdown",
   "metadata": {
    "deletable": false,
    "editable": false,
    "nbgrader": {
     "cell_type": "markdown",
     "checksum": "4071b0e5cbc34d71aae894c92ad1786b",
     "grade": false,
     "grade_id": "cell-c09aa76a3f984318",
     "locked": true,
     "schema_version": 3,
     "solution": false,
     "task": false
    }
   },
   "source": [
    "### Question 3\n",
    "\n",
    "What are the 20 most frequently occurring (unique) tokens in the text? What is their frequency?\n",
    "\n",
    "*This function should return a list of 20 tuples where each tuple is of the form `(token, frequency)`. The list should be sorted in descending order of frequency.*"
   ]
  },
  {
   "cell_type": "code",
   "execution_count": null,
   "metadata": {
    "deletable": false,
    "nbgrader": {
     "cell_type": "code",
     "checksum": "afcb9aac78dfd68e33cdc2cbc6ab3f50",
     "grade": false,
     "grade_id": "cell-62c8d073f91273ac",
     "locked": false,
     "schema_version": 3,
     "solution": true,
     "task": false
    }
   },
   "outputs": [],
   "source": [
    "def answer_three():\n",
    "    tokens = nltk.word_tokenize(plots_raw)\n",
    "    freq = nltk.FreqDist(tokens)\n",
    "    freq_sorted = sorted(freq.items(), key=lambda x: x[1], reverse=True)\n",
    "    return freq_sorted[:20]\n",
    "\n",
    "answer_three()"
   ]
  },
  {
   "cell_type": "markdown",
   "metadata": {
    "deletable": false,
    "editable": false,
    "nbgrader": {
     "cell_type": "markdown",
     "checksum": "f420b6c683e5a2697cb390cfd2d231ae",
     "grade": false,
     "grade_id": "cell-5f47fe4f238b78dd",
     "locked": true,
     "schema_version": 3,
     "solution": false,
     "task": false
    }
   },
   "source": [
    "### Question 4\n",
    "\n",
    "What tokens have a length of greater than 5 and frequency of more than 200?\n",
    "\n",
    "*This function should return an alphabetically sorted list of the tokens that match the above constraints. To sort your list, use `sorted()`*"
   ]
  },
  {
   "cell_type": "code",
   "execution_count": null,
   "metadata": {
    "deletable": false,
    "nbgrader": {
     "cell_type": "code",
     "checksum": "8473f68f68831b3534011887e16eba2b",
     "grade": false,
     "grade_id": "cell-5a6acdef4847e737",
     "locked": false,
     "schema_version": 3,
     "solution": true,
     "task": false
    }
   },
   "outputs": [],
   "source": [
    "def answer_four():\n",
    "\n",
    "    tokens = nltk.word_tokenize(plots_raw)\n",
    "    freq = nltk.FreqDist(tokens)\n",
    "    matches = []\n",
    "    for k, v in freq.items():\n",
    "        if len(k) > 5 and v > 200:\n",
    "            matches.append((k, v))\n",
    "    matches_sorted = sorted(matches, key=lambda x: x[0])\n",
    "    return [w for (w, i) in matches_sorted]\n",
    "\n",
    "answer_four()"
   ]
  },
  {
   "attachments": {},
   "cell_type": "markdown",
   "metadata": {
    "deletable": false,
    "editable": false,
    "nbgrader": {
     "cell_type": "markdown",
     "checksum": "6b5811c65dd5af6e6bfc2f7e6120a4b9",
     "grade": false,
     "grade_id": "cell-8ea845b3204e681f",
     "locked": true,
     "schema_version": 3,
     "solution": false,
     "task": false
    }
   },
   "source": [
    "### Question 5\n",
    "\n",
    "Find the longest token in text1 and that token's length.\n",
    "\n",
    "*This function should return a tuple `(longest_word, length)`.*"
   ]
  },
  {
   "cell_type": "code",
   "execution_count": null,
   "metadata": {
    "deletable": false,
    "nbgrader": {
     "cell_type": "code",
     "checksum": "b92f5d1417c21499c76d69eb96fecea0",
     "grade": false,
     "grade_id": "cell-8e48b990b889617c",
     "locked": false,
     "schema_version": 3,
     "solution": true,
     "task": false
    }
   },
   "outputs": [],
   "source": [
    "def answer_five():\n",
    "    lengths = [(w, len(w)) for w in text1]\n",
    "    len_sorted = sorted(lengths, key=lambda x: x[1], reverse=True)\n",
    "    return len_sorted[0]\n",
    "\n",
    "answer_five()"
   ]
  },
  {
   "cell_type": "markdown",
   "metadata": {
    "deletable": false,
    "editable": false,
    "nbgrader": {
     "cell_type": "markdown",
     "checksum": "210c5a24a1359d3a83749e138733bc26",
     "grade": false,
     "grade_id": "cell-79422bcd3ea94729",
     "locked": true,
     "schema_version": 3,
     "solution": false,
     "task": false
    }
   },
   "source": [
    "### Question 6\n",
    "\n",
    "What unique words have a frequency of more than 2000? What is their frequency?\n",
    "\n",
    "\"Hint:  you may want to use `isalpha()` to check if the token is a word and not punctuation.\"\n",
    "\n",
    "*This function should return a list of tuples of the form `(frequency, word)` sorted in descending order of frequency.*"
   ]
  },
  {
   "cell_type": "code",
   "execution_count": null,
   "metadata": {
    "deletable": false,
    "nbgrader": {
     "cell_type": "code",
     "checksum": "6c9d107058699448b6fceec5870e0961",
     "grade": false,
     "grade_id": "cell-b361bd2f0c973ddf",
     "locked": false,
     "schema_version": 3,
     "solution": true,
     "task": false
    }
   },
   "outputs": [],
   "source": [
    "def answer_six():\n",
    "\n",
    "    alpha_tokens = [w for w in nltk.word_tokenize(plots_raw) if w.isalpha()]\n",
    "    return alpha_tokens[:100]\n",
    "\n",
    "answer_six()"
   ]
  },
  {
   "cell_type": "markdown",
   "metadata": {
    "deletable": false,
    "editable": false,
    "nbgrader": {
     "cell_type": "markdown",
     "checksum": "39a16f37b4a68b256c52e6949612e82e",
     "grade": false,
     "grade_id": "cell-a5232dd39b79ce55",
     "locked": true,
     "schema_version": 3,
     "solution": false,
     "task": false
    }
   },
   "source": [
    "### Question 7\n",
    "\n",
    "`text1` is in `nltk.Text` format that has been constructed using tokens output by `nltk.word_tokenize(plots_raw)`. \n",
    "\n",
    "Now, use `nltk.sent_tokenize` on the tokens in `text1` by joining them using whitespace to output a sentence-tokenized copy of `text1`. Report the average number of whitespace separated tokens per sentence in the sentence-tokenized copy of `text1`.\n",
    "\n",
    "*This function should return a float.*"
   ]
  },
  {
   "cell_type": "code",
   "execution_count": null,
   "metadata": {
    "deletable": false,
    "nbgrader": {
     "cell_type": "code",
     "checksum": "09a27a55e10b9c22c801f688baacc689",
     "grade": false,
     "grade_id": "cell-416275d058421b1c",
     "locked": false,
     "schema_version": 3,
     "solution": true,
     "task": false
    }
   },
   "outputs": [],
   "source": [
    "def answer_seven():\n",
    "\n",
    "    big_sent = \" \".join(text1)\n",
    "    sent_token = nltk.sent_tokenize(big_sent)\n",
    "    whitespace_counts = []\n",
    "    for sent in sent_token:\n",
    "        n_whitespace = 0\n",
    "        for w in sent:\n",
    "            if w == \" \":\n",
    "                n_whitespace += 1\n",
    "        whitespace_counts.append(n_whitespace)\n",
    "    return sum(whitespace_counts)/len(whitespace_counts)\n",
    "\n",
    "\n",
    "answer_seven()"
   ]
  },
  {
   "cell_type": "markdown",
   "metadata": {
    "deletable": false,
    "editable": false,
    "nbgrader": {
     "cell_type": "markdown",
     "checksum": "dd8f86d60dc3cef696b2f64515d39ac3",
     "grade": false,
     "grade_id": "cell-377489593984f88c",
     "locked": true,
     "schema_version": 3,
     "solution": false,
     "task": false
    }
   },
   "source": [
    "### Question 8\n",
    "\n",
    "What are the 5 most frequent parts of speech in `text1`? What is their frequency?\n",
    "\n",
    "*This function should return a list of tuples of the form `(part_of_speech, frequency)` sorted in descending order of frequency.*"
   ]
  },
  {
   "cell_type": "code",
   "execution_count": null,
   "metadata": {
    "deletable": false,
    "nbgrader": {
     "cell_type": "code",
     "checksum": "3403e39852d8e5d7783a908b64c73c57",
     "grade": false,
     "grade_id": "cell-2fb8ade1035d010e",
     "locked": false,
     "schema_version": 3,
     "solution": true,
     "task": false
    }
   },
   "outputs": [],
   "source": [
    "def answer_eight():\n",
    "    pos_tag_dict = {}\n",
    "    pos_tag_list = nltk.pos_tag(text1)\n",
    "    for _, p in pos_tag_list:\n",
    "        if p in pos_tag_dict:\n",
    "            pos_tag_dict[p] += 1\n",
    "        else:\n",
    "            pos_tag_dict[p] = 1\n",
    "    tags_sorted = sorted(pos_tag_dict.items(), key=lambda x: x[1], reverse=True)\n",
    "    return tags_sorted[:5]\n",
    "\n",
    "answer_eight()"
   ]
  },
  {
   "cell_type": "markdown",
   "metadata": {
    "deletable": false,
    "editable": false,
    "nbgrader": {
     "cell_type": "markdown",
     "checksum": "0cc5797124305c841c1d47f9f94a25fb",
     "grade": false,
     "grade_id": "cell-8b2318e9cdf5078e",
     "locked": true,
     "schema_version": 3,
     "solution": false,
     "task": false
    }
   },
   "source": [
    "## Part 2 - Spelling Recommender\n",
    "\n",
    "For this part of the assignment you will create three different spelling recommenders, that each take a list of misspelled words and recommends a correctly spelled word for every word in the list.\n",
    "\n",
    "For every misspelled word, the recommender should find the word in `correct_spellings` that has the shortest distance*, and starts with the same letter as the misspelled word, and return that word as a recommendation.\n",
    "\n",
    "*Each of the three different recommenders will use a different distance measure (outlined below).\n",
    "\n",
    "Each of the recommenders should provide recommendations for the three default words provided: `['cormulent', 'incendenece', 'validrate']`."
   ]
  },
  {
   "cell_type": "code",
   "execution_count": null,
   "metadata": {
    "deletable": false,
    "editable": false,
    "nbgrader": {
     "cell_type": "code",
     "checksum": "441445a0d079ca69464ef89648261329",
     "grade": false,
     "grade_id": "cell-9635cab5394b4243",
     "locked": true,
     "schema_version": 3,
     "solution": false,
     "task": false
    }
   },
   "outputs": [],
   "source": [
    "from nltk.corpus import words\n",
    "\n",
    "correct_spellings = words.words()"
   ]
  },
  {
   "cell_type": "markdown",
   "metadata": {
    "deletable": false,
    "editable": false,
    "nbgrader": {
     "cell_type": "markdown",
     "checksum": "eeb154a2ba138d89531b09d030c96b88",
     "grade": false,
     "grade_id": "cell-f9bd4901b8b76756",
     "locked": true,
     "schema_version": 3,
     "solution": false,
     "task": false
    }
   },
   "source": [
    "### Question 9\n",
    "\n",
    "For this recommender, your function should provide recommendations for the three default words provided above using the following distance metric:\n",
    "\n",
    "**[Jaccard distance](https://en.wikipedia.org/wiki/Jaccard_index) on the trigrams of the two words.**\n",
    "\n",
    "Refer to:\n",
    "- [NLTK Jaccard distance](https://www.nltk.org/api/nltk.metrics.distance.html?highlight=jaccard_distance#nltk.metrics.distance.jaccard_distance)\n",
    "- [NLTK ngrams](https://www.nltk.org/api/nltk.util.html?highlight=ngrams#nltk.util.ngrams)\n",
    "\n",
    "*This function should return a list of length three:\n",
    "`['cormulent_reccomendation', 'incendenece_reccomendation', 'validrate_reccomendation']`.*"
   ]
  },
  {
   "cell_type": "code",
   "execution_count": null,
   "metadata": {
    "deletable": false,
    "nbgrader": {
     "cell_type": "code",
     "checksum": "f0a14e318e39c3a250b6de233f1b72fb",
     "grade": false,
     "grade_id": "cell-49250d9f337abe33",
     "locked": false,
     "schema_version": 3,
     "solution": true,
     "task": false
    }
   },
   "outputs": [],
   "source": [
    "def answer_nine(entries=[\"cormulent\", \"incendenece\", \"validrate\"]):\n",
    "    recoms = []\n",
    "    for target in entries:\n",
    "        target_ngram = set(nltk.ngrams(target, 3))\n",
    "        candidates = [w for w in correct_spellings if w.startswith(target[0])]\n",
    "        distances = {}\n",
    "        for c in candidates:\n",
    "            c_ngram = set(nltk.ngrams(c, 3))\n",
    "            j_distance = nltk.jaccard_distance(target_ngram, c_ngram)\n",
    "            distances[c] = j_distance\n",
    "        best_match = sorted(distances.items(), key=lambda x: x[1])[0]\n",
    "        recoms.append(best_match)\n",
    "    return [w for w, _ in recoms]\n",
    "\n",
    "\n",
    "answer_nine()"
   ]
  },
  {
   "cell_type": "markdown",
   "metadata": {
    "deletable": false,
    "editable": false,
    "nbgrader": {
     "cell_type": "markdown",
     "checksum": "c4fdc471c5def474f7508040daa46f23",
     "grade": false,
     "grade_id": "cell-e529b7b60545aced",
     "locked": true,
     "schema_version": 3,
     "solution": false,
     "task": false
    }
   },
   "source": [
    "### Question 10\n",
    "\n",
    "For this recommender, your function should provide recommendations for the three default words provided above using the following distance metric:\n",
    "\n",
    "**[Jaccard distance](https://en.wikipedia.org/wiki/Jaccard_index) on the 4-grams of the two words.**\n",
    "\n",
    "Refer to:\n",
    "- [NLTK Jaccard distance](https://www.nltk.org/api/nltk.metrics.distance.html?highlight=jaccard_distance#nltk.metrics.distance.jaccard_distance)\n",
    "- [NLTK ngrams](https://www.nltk.org/api/nltk.util.html?highlight=ngrams#nltk.util.ngrams)\n",
    "\n",
    "*This function should return a list of length three:\n",
    "`['cormulent_reccomendation', 'incendenece_reccomendation', 'validrate_reccomendation']`.*"
   ]
  },
  {
   "cell_type": "code",
   "execution_count": null,
   "metadata": {
    "deletable": false,
    "nbgrader": {
     "cell_type": "code",
     "checksum": "51f67cfcb3cd3f0f54de42c21d665328",
     "grade": false,
     "grade_id": "cell-d2c7a9b21cb77476",
     "locked": false,
     "schema_version": 3,
     "solution": true,
     "task": false
    }
   },
   "outputs": [],
   "source": [
    "def answer_ten(entries=[\"cormulent\", \"incendenece\", \"validrate\"]):\n",
    "\n",
    "    recoms = []\n",
    "    for target in entries:\n",
    "        t_ngram = set(nltk.ngrams(target, 4))\n",
    "        candidates = [w for w in correct_spellings if w.startswith(target[0])]\n",
    "        match = min(\n",
    "            candidates,\n",
    "            key=lambda x: nltk.jaccard_distance(t_ngram, set(nltk.ngrams(x, 4))),\n",
    "        )\n",
    "        recoms.append(match)\n",
    "\n",
    "    return recoms\n",
    "\n",
    "\n",
    "answer_ten()"
   ]
  },
  {
   "cell_type": "markdown",
   "metadata": {
    "deletable": false,
    "editable": false,
    "nbgrader": {
     "cell_type": "markdown",
     "checksum": "784c5b952d5fa2e6fd55c834b255ef96",
     "grade": false,
     "grade_id": "cell-6d6d7fb064f4d28a",
     "locked": true,
     "schema_version": 3,
     "solution": false,
     "task": false
    }
   },
   "source": [
    "### Question 11\n",
    "\n",
    "For this recommender, your function should provide recommendations for the three default words provided above using the following distance metric:\n",
    "\n",
    "**[Edit distance on the two words with transpositions.](https://en.wikipedia.org/wiki/Damerau%E2%80%93Levenshtein_distance)**\n",
    "\n",
    "Refer to:\n",
    "- [NLTK edit distance](https://www.nltk.org/api/nltk.metrics.distance.html?highlight=edit_distance#nltk.metrics.distance.edit_distance)\n",
    "\n",
    "*This function should return a list of length three:\n",
    "`['cormulent_reccomendation', 'incendenece_reccomendation', 'validrate_reccomendation']`.*"
   ]
  },
  {
   "cell_type": "code",
   "execution_count": 145,
   "metadata": {},
   "outputs": [
    {
     "data": {
      "text/plain": [
       "'corpulent'"
      ]
     },
     "execution_count": 145,
     "metadata": {},
     "output_type": "execute_result"
    }
   ],
   "source": [
    "target = \"cormulent\"\n",
    "candidates = [w for w in correct_spellings if w.startswith(target[0])]\n",
    "\n",
    "e_distances = {}\n",
    "\n",
    "for c in candidates:\n",
    "    e_distance = nltk.edit_distance(target, c, transpositions=True)\n",
    "    e_distances[c] = e_distance\n",
    "\n",
    "match = min(e_distances.items(), key=lambda x: x[1])\n",
    "match[0]"
   ]
  },
  {
   "cell_type": "code",
   "execution_count": 146,
   "metadata": {
    "deletable": false,
    "nbgrader": {
     "cell_type": "code",
     "checksum": "6d4b6f99a1ea16548f0abc19381a53b8",
     "grade": false,
     "grade_id": "cell-f1e44797650980f3",
     "locked": false,
     "schema_version": 3,
     "solution": true,
     "task": false
    }
   },
   "outputs": [
    {
     "data": {
      "text/plain": [
       "['corpulent', 'intendence', 'validate']"
      ]
     },
     "execution_count": 146,
     "metadata": {},
     "output_type": "execute_result"
    }
   ],
   "source": [
    "def answer_eleven(entries=[\"cormulent\", \"incendenece\", \"validrate\"]):\n",
    "\n",
    "    recoms = []\n",
    "    for target in entries:\n",
    "        candidates = [w for w in correct_spellings if w.startswith(target[0])]\n",
    "        match = min(\n",
    "            candidates, key=lambda x: nltk.edit_distance(target, x, transpositions=True)\n",
    "        )\n",
    "        recoms.append(match)\n",
    "    return recoms\n",
    "\n",
    "\n",
    "answer_eleven()"
   ]
  }
 ],
 "metadata": {
  "coursera": {
   "course_slug": "python-text-mining",
   "graded_item_id": "r35En",
   "launcher_item_id": "tCVfW",
   "part_id": "NTVgL"
  },
  "kernelspec": {
   "display_name": "ds",
   "language": "python",
   "name": "python3"
  },
  "language_info": {
   "codemirror_mode": {
    "name": "ipython",
    "version": 3
   },
   "file_extension": ".py",
   "mimetype": "text/x-python",
   "name": "python",
   "nbconvert_exporter": "python",
   "pygments_lexer": "ipython3",
   "version": "3.11.10"
  }
 },
 "nbformat": 4,
 "nbformat_minor": 2
}
